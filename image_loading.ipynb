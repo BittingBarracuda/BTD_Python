{
 "cells": [
  {
   "cell_type": "code",
   "execution_count": 1,
   "metadata": {},
   "outputs": [],
   "source": [
    "import numpy as np\n",
    "import matplotlib.pyplot as plt\n",
    "import os\n",
    "import cv2\n",
    "import imutils"
   ]
  },
  {
   "cell_type": "code",
   "execution_count": 2,
   "metadata": {},
   "outputs": [
    {
     "name": "stdout",
     "output_type": "stream",
     "text": [
      "[!] Reading files with positive diagnostic...\n",
      "[!] Positive files read!\n",
      "[!] Reading files with negative diagnostic...\n",
      "[!] Negative files read!\n"
     ]
    }
   ],
   "source": [
    "img_yes = '../data/yes/'\n",
    "img_no = '../data/no/'\n",
    "\n",
    "yes_files = os.listdir(img_yes)\n",
    "no_files = os.listdir(img_no)\n",
    "\n",
    "yes_images, no_images = [], []\n",
    "print('[!] Reading files with positive diagnostic...')\n",
    "for file in yes_files:\n",
    "    yes_images.append(plt.imread(f'{img_yes}{file}'))\n",
    "print('[!] Positive files read!')\n",
    "\n",
    "print('[!] Reading files with negative diagnostic...')\n",
    "for file in no_files:\n",
    "    no_images.append(plt.imread(f'{img_no}{file}'))\n",
    "print('[!] Negative files read!')\n",
    "\n",
    "all_images = yes_images + no_images"
   ]
  },
  {
   "cell_type": "code",
   "execution_count": 3,
   "metadata": {},
   "outputs": [],
   "source": [
    "THRESH = 30\n",
    "MAX_VALUE = 255\n",
    "\n",
    "def convert_to_int_matrix(img_list):\n",
    "    MIN, MAX = 0, 255\n",
    "    for i, img in enumerate(img_list):\n",
    "        if img.dtype == np.float32:\n",
    "            tmp = np.copy(img) * MAX\n",
    "            img_list[i] = tmp.astype(np.uint8)\n",
    "\n",
    "def imgs_to_grayscale(img_list):\n",
    "    for i, img in enumerate(img_list):\n",
    "        if len(img.shape) == 3:\n",
    "            img_list[i] = cv2.cvtColor(img, cv2.COLOR_BGR2GRAY)\n",
    "\n",
    "def gaussian_blur(img_list):\n",
    "    for i, img in enumerate(img_list):\n",
    "        img_list[i] = cv2.GaussianBlur(img, (5, 5), 0) \n",
    "\n",
    "def threshold_imgs(img_list):\n",
    "    for i, img in enumerate(img_list):\n",
    "        _, img_list[i] = cv2.threshold(img, THRESH, MAX_VALUE, cv2.THRESH_BINARY)\n",
    "\n",
    "def erode_imgs(img_list):\n",
    "    for i, img in enumerate(img_list):\n",
    "        img_list[i] = cv2.erode(img, None, iterations=1)\n",
    "\n",
    "def dilate_imgs(img_list):\n",
    "    for i, img in enumerate(img_list):\n",
    "        img_list[i] = cv2.dilate(img, None, iterations=1)\n",
    "\n",
    "def flatten_contour(contour_list):\n",
    "    tmp = contour_list[0]\n",
    "    shape = tmp.shape\n",
    "    aux = np.zeros(shape=(shape[0], shape[2]), dtype=int)\n",
    "    for i in range(shape[0]):\n",
    "        aux[i] = tmp[i].flatten()\n",
    "    return aux\n",
    "\n",
    "def find_extreme_points(contour_list):\n",
    "    col_0 = contour_list[:, 0]\n",
    "    col_1 = contour_list[:, 1]\n",
    "    x_left, x_right = np.argmin(col_0), np.argmax(col_0)\n",
    "    y_top, y_bot = np.argmax(col_1), np.argmin(col_1)\n",
    "    ret = np.zeros(shape=(4, 2), dtype=int)\n",
    "    ret[0, :], ret[1, :] = contour_list[x_left], contour_list[x_right]\n",
    "    ret[2, :], ret[3, :] = contour_list[y_top], contour_list[y_bot]\n",
    "    return ret  \n",
    "\n",
    "def get_contour(img_list_morph, img_list, mode):\n",
    "    extreme_points, i = [], 0\n",
    "    for img_morph, img in zip(img_list_morph, img_list):\n",
    "        cont, _ = cv2.findContours(image=img_morph, mode=mode, method=cv2.CHAIN_APPROX_NONE)\n",
    "        cont_flat = flatten_contour(cont)\n",
    "        extreme_points.append(find_extreme_points(cont_flat))\n",
    "        # print(extreme_points[-1])\n",
    "        # img_copy = img.copy()\n",
    "        # for i in range(4):\n",
    "        #     img_copy = cv2.circle(img_copy, extreme_points[-1][i, :], radius=5, color=(0, 255, 0), thickness=-1)\n",
    "        # cv2.imshow(\"Image\", img_copy)\n",
    "        # cv2.waitKey()\n",
    "        # cv2.drawContours(image=img_copy, contours=cont, contourIdx=-1, color=(0, 255, 0), thickness=4, lineType=cv2.LINE_AA)\n",
    "        # cv2.imshow(\"Image\", img_copy)\n",
    "        # cv2.waitKey()\n",
    "        i+= 1\n",
    "        if i % 50 == 0: print(f'[!] {i} images processed...')\n",
    "    print(f'[!] Total of {i} images processed!')\n",
    "    return np.array(extreme_points)  \n",
    "\n",
    "def draw_img(img_list, index):\n",
    "    if index < len(img_list):\n",
    "        cv2.imshow(\"Brain image\", img_list[index])\n",
    "        cv2.waitKey()"
   ]
  },
  {
   "cell_type": "code",
   "execution_count": 4,
   "metadata": {},
   "outputs": [
    {
     "name": "stdout",
     "output_type": "stream",
     "text": [
      "[!] 50 images processed...\n",
      "[!] 100 images processed...\n",
      "[!] 150 images processed...\n",
      "[!] 200 images processed...\n",
      "[!] 250 images processed...\n",
      "[!] Total of 253 images processed!\n"
     ]
    }
   ],
   "source": [
    "INDEX = 0\n",
    "convert_to_int_matrix(all_images)\n",
    "all_images_morph = all_images.copy()\n",
    "draw_img(all_images, 0)\n",
    "imgs_to_grayscale(all_images_morph)\n",
    "draw_img(all_images_morph, INDEX)  \n",
    "threshold_imgs(all_images_morph)\n",
    "draw_img(all_images_morph, INDEX)\n",
    "erode_imgs(all_images_morph)\n",
    "draw_img(all_images_morph, INDEX)\n",
    "dilate_imgs(all_images_morph)\n",
    "draw_img(all_images_morph, INDEX)\n",
    "gaussian_blur(all_images_morph)\n",
    "draw_img(all_images_morph, INDEX)  \n",
    "extreme_points = get_contour(all_images_morph, all_images, cv2.RETR_EXTERNAL)"
   ]
  },
  {
   "cell_type": "code",
   "execution_count": 7,
   "metadata": {},
   "outputs": [],
   "source": [
    "def cut_images(extreme_points, img_list):\n",
    "    new_images = []\n",
    "    for extreme_point, img in zip(extreme_points, img_list):\n",
    "        print(extreme_point)\n",
    "        x_left, x_right = extreme_point[0, 0], extreme_point[1, 0]\n",
    "        y_top, y_bot = extreme_point[2, 1], extreme_point[3, 1]\n",
    "        print(f'img_shape: {img.shape}')\n",
    "        print(f'x_left: {x_left} --- x_right: {x_right} --- y_bot: {y_bot} --- y_top: {y_top}')\n",
    "        size_h, size_v = x_right - x_left, y_top - y_bot\n",
    "        tmp = np.zeros(shape=(size_h, size_v), dtype=np.uint8)\n",
    "        for i, k in zip(range(x_left, x_right), range(size_h)):\n",
    "            for j, l in zip(range(y_bot, y_top), range(size_v)):\n",
    "                tmp[k, l] = img[i, j]\n",
    "        new_images.append(tmp)\n",
    "    return new_images"
   ]
  },
  {
   "cell_type": "code",
   "execution_count": 8,
   "metadata": {},
   "outputs": [
    {
     "name": "stdout",
     "output_type": "stream",
     "text": [
      "[[  5 102]\n",
      " [171 116]\n",
      " [ 73 212]\n",
      " [ 76   6]]\n",
      "img_shape: (218, 180)\n",
      "x_left: 5 --- x_right: 171 --- y_bot: 6 --- y_top: 212\n"
     ]
    },
    {
     "ename": "IndexError",
     "evalue": "index 180 is out of bounds for axis 1 with size 180",
     "output_type": "error",
     "traceback": [
      "\u001b[1;31m---------------------------------------------------------------------------\u001b[0m",
      "\u001b[1;31mIndexError\u001b[0m                                Traceback (most recent call last)",
      "\u001b[1;32mc:\\Users\\kmart\\Desktop\\Programacion\\Python\\BTD_Python\\image_loading.ipynb Cell 6\u001b[0m in \u001b[0;36m<cell line: 3>\u001b[1;34m()\u001b[0m\n\u001b[0;32m      <a href='vscode-notebook-cell:/c%3A/Users/kmart/Desktop/Programacion/Python/BTD_Python/image_loading.ipynb#X10sZmlsZQ%3D%3D?line=0'>1</a>\u001b[0m grey_imgs \u001b[39m=\u001b[39m all_images\u001b[39m.\u001b[39mcopy()\n\u001b[0;32m      <a href='vscode-notebook-cell:/c%3A/Users/kmart/Desktop/Programacion/Python/BTD_Python/image_loading.ipynb#X10sZmlsZQ%3D%3D?line=1'>2</a>\u001b[0m imgs_to_grayscale(grey_imgs)\n\u001b[1;32m----> <a href='vscode-notebook-cell:/c%3A/Users/kmart/Desktop/Programacion/Python/BTD_Python/image_loading.ipynb#X10sZmlsZQ%3D%3D?line=2'>3</a>\u001b[0m new_images \u001b[39m=\u001b[39m cut_images(extreme_points, grey_imgs)\n\u001b[0;32m      <a href='vscode-notebook-cell:/c%3A/Users/kmart/Desktop/Programacion/Python/BTD_Python/image_loading.ipynb#X10sZmlsZQ%3D%3D?line=3'>4</a>\u001b[0m \u001b[39mfor\u001b[39;00m i, img \u001b[39min\u001b[39;00m \u001b[39menumerate\u001b[39m(new_images):\n\u001b[0;32m      <a href='vscode-notebook-cell:/c%3A/Users/kmart/Desktop/Programacion/Python/BTD_Python/image_loading.ipynb#X10sZmlsZQ%3D%3D?line=4'>5</a>\u001b[0m     draw_img(new_images, i)\n",
      "\u001b[1;32mc:\\Users\\kmart\\Desktop\\Programacion\\Python\\BTD_Python\\image_loading.ipynb Cell 6\u001b[0m in \u001b[0;36mcut_images\u001b[1;34m(extreme_points, img_list)\u001b[0m\n\u001b[0;32m     <a href='vscode-notebook-cell:/c%3A/Users/kmart/Desktop/Programacion/Python/BTD_Python/image_loading.ipynb#X10sZmlsZQ%3D%3D?line=10'>11</a>\u001b[0m     \u001b[39mfor\u001b[39;00m i, k \u001b[39min\u001b[39;00m \u001b[39mzip\u001b[39m(\u001b[39mrange\u001b[39m(x_left, x_right), \u001b[39mrange\u001b[39m(size_h)):\n\u001b[0;32m     <a href='vscode-notebook-cell:/c%3A/Users/kmart/Desktop/Programacion/Python/BTD_Python/image_loading.ipynb#X10sZmlsZQ%3D%3D?line=11'>12</a>\u001b[0m         \u001b[39mfor\u001b[39;00m j, l \u001b[39min\u001b[39;00m \u001b[39mzip\u001b[39m(\u001b[39mrange\u001b[39m(y_bot, y_top), \u001b[39mrange\u001b[39m(size_v)):\n\u001b[1;32m---> <a href='vscode-notebook-cell:/c%3A/Users/kmart/Desktop/Programacion/Python/BTD_Python/image_loading.ipynb#X10sZmlsZQ%3D%3D?line=12'>13</a>\u001b[0m             tmp[k, l] \u001b[39m=\u001b[39m img[i, j]\n\u001b[0;32m     <a href='vscode-notebook-cell:/c%3A/Users/kmart/Desktop/Programacion/Python/BTD_Python/image_loading.ipynb#X10sZmlsZQ%3D%3D?line=13'>14</a>\u001b[0m     new_images\u001b[39m.\u001b[39mappend(tmp)\n\u001b[0;32m     <a href='vscode-notebook-cell:/c%3A/Users/kmart/Desktop/Programacion/Python/BTD_Python/image_loading.ipynb#X10sZmlsZQ%3D%3D?line=14'>15</a>\u001b[0m \u001b[39mreturn\u001b[39;00m new_images\n",
      "\u001b[1;31mIndexError\u001b[0m: index 180 is out of bounds for axis 1 with size 180"
     ]
    }
   ],
   "source": [
    "grey_imgs = all_images.copy()\n",
    "imgs_to_grayscale(grey_imgs)\n",
    "new_images = cut_images(extreme_points, grey_imgs)\n",
    "for i, img in enumerate(new_images):\n",
    "    draw_img(new_images, i)"
   ]
  }
 ],
 "metadata": {
  "kernelspec": {
   "display_name": "Python 3",
   "language": "python",
   "name": "python3"
  },
  "language_info": {
   "codemirror_mode": {
    "name": "ipython",
    "version": 3
   },
   "file_extension": ".py",
   "mimetype": "text/x-python",
   "name": "python",
   "nbconvert_exporter": "python",
   "pygments_lexer": "ipython3",
   "version": "3.10.4"
  },
  "orig_nbformat": 4,
  "vscode": {
   "interpreter": {
    "hash": "12749f567798517b8543354a13719bbd42e9e3e56a89ba27a040f4f72d5c2230"
   }
  }
 },
 "nbformat": 4,
 "nbformat_minor": 2
}
