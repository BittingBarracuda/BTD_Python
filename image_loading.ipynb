{
 "cells": [
  {
   "cell_type": "code",
   "execution_count": 1,
   "metadata": {},
   "outputs": [],
   "source": [
    "import numpy as np\n",
    "import matplotlib.pyplot as plt\n",
    "import os\n",
    "import cv2\n",
    "import imutils"
   ]
  },
  {
   "cell_type": "code",
   "execution_count": 2,
   "metadata": {},
   "outputs": [
    {
     "name": "stdout",
     "output_type": "stream",
     "text": [
      "[!] Reading files with positive diagnostic...\n",
      "[!] Positive files read!\n",
      "[!] Reading files with negative diagnostic...\n",
      "[!] Negative files read\n"
     ]
    }
   ],
   "source": [
    "img_yes = '../data/yes/'\n",
    "img_no = '../data/no/'\n",
    "\n",
    "yes_files = os.listdir(img_yes)\n",
    "no_files = os.listdir(img_no)\n",
    "\n",
    "yes_images, no_images = [], []\n",
    "print('[!] Reading files with positive diagnostic...')\n",
    "for file in yes_files:\n",
    "    yes_images.append(plt.imread(f'{img_yes}{file}'))\n",
    "print('[!] Positive files read!')\n",
    "\n",
    "print('[!] Reading files with negative diagnostic...')\n",
    "for file in no_files:\n",
    "    no_images.append(plt.imread(f'{img_no}{file}'))\n",
    "print('[!] Negative files read')\n",
    "\n",
    "all_images = yes_images + no_images"
   ]
  },
  {
   "cell_type": "code",
   "execution_count": 3,
   "metadata": {},
   "outputs": [],
   "source": [
    "THRESH = 30\n",
    "MAX_VALUE = 255\n",
    "\n",
    "def imgs_to_grayscale(img_list):\n",
    "    for i, img in enumerate(img_list):\n",
    "        if len(img.shape) == 3:\n",
    "            img_list[i] = cv2.cvtColor(img, cv2.COLOR_BGR2GRAY)\n",
    "\n",
    "def threshold_imgs(img_list):\n",
    "    for i, img in enumerate(img_list):\n",
    "        _, img_list[i] = cv2.threshold(img, THRESH, MAX_VALUE, cv2.THRESH_BINARY)\n",
    "\n",
    "def gaussian_blur(img_list):\n",
    "    for i, img in enumerate(img_list):\n",
    "        img_list[i] = cv2.GaussianBlur(img, (5, 5), 0) \n",
    "\n",
    "def get_contour(img_list_grey, img_list):\n",
    "    for img_grey, img in zip(img_list_grey, img_list):\n",
    "        cont, _ = cv2.findContours(image=img_grey, mode=cv2.RETR_TREE, method=cv2.CHAIN_APPROX_NONE)\n",
    "        img_copy = img.copy()\n",
    "        cv2.drawContours(image=img_copy, contours=cont, contourIdx=-1, color=(0, 255, 0), thickness=4, lineType=cv2.LINE_AA)\n",
    "        cv2.imshow(\"Image\", img_copy)\n",
    "        cv2.waitKey()  \n",
    "\n",
    "def draw_img(img_list, index):\n",
    "    if index < len(img_list):\n",
    "        cv2.imshow(\"Brain image\", img_list[index])\n",
    "        cv2.waitKey()"
   ]
  },
  {
   "cell_type": "code",
   "execution_count": 4,
   "metadata": {},
   "outputs": [],
   "source": [
    "all_images_grey = all_images.copy()\n",
    "draw_img(all_images, 0)\n",
    "imgs_to_grayscale(all_images_grey)\n",
    "draw_img(all_images_grey, 0)  \n",
    "threshold_imgs(all_images_grey)\n",
    "draw_img(all_images_grey, 0)  \n",
    "gaussian_blur(all_images_grey)\n",
    "draw_img(all_images_grey, 0)  \n",
    "get_contour(all_images_grey, all_images)\n",
    "draw_img(all_images_grey, 0)  "
   ]
  }
 ],
 "metadata": {
  "kernelspec": {
   "display_name": "Python 3",
   "language": "python",
   "name": "python3"
  },
  "language_info": {
   "codemirror_mode": {
    "name": "ipython",
    "version": 3
   },
   "file_extension": ".py",
   "mimetype": "text/x-python",
   "name": "python",
   "nbconvert_exporter": "python",
   "pygments_lexer": "ipython3",
   "version": "3.10.4"
  },
  "orig_nbformat": 4,
  "vscode": {
   "interpreter": {
    "hash": "12749f567798517b8543354a13719bbd42e9e3e56a89ba27a040f4f72d5c2230"
   }
  }
 },
 "nbformat": 4,
 "nbformat_minor": 2
}
