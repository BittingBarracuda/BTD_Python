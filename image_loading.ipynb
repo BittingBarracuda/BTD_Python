{
 "cells": [
  {
   "cell_type": "code",
   "execution_count": 1,
   "metadata": {},
   "outputs": [],
   "source": [
    "import numpy as np\n",
    "import matplotlib.pyplot as plt\n",
    "import os\n",
    "import cv2\n",
    "import imutils"
   ]
  },
  {
   "cell_type": "code",
   "execution_count": 2,
   "metadata": {},
   "outputs": [
    {
     "name": "stdout",
     "output_type": "stream",
     "text": [
      "[!] Reading files with positive diagnostic...\n",
      "[!] Positive files read!\n",
      "[!] Reading files with negative diagnostic...\n",
      "[!] Negative files read\n"
     ]
    }
   ],
   "source": [
    "img_yes = '../data/yes/'\n",
    "img_no = '../data/no/'\n",
    "\n",
    "yes_files = os.listdir(img_yes)\n",
    "no_files = os.listdir(img_no)\n",
    "\n",
    "yes_images, no_images = [], []\n",
    "print('[!] Reading files with positive diagnostic...')\n",
    "for file in yes_files:\n",
    "    yes_images.append(plt.imread(f'{img_yes}{file}'))\n",
    "print('[!] Positive files read!')\n",
    "\n",
    "print('[!] Reading files with negative diagnostic...')\n",
    "for file in no_files:\n",
    "    no_images.append(plt.imread(f'{img_no}{file}'))\n",
    "print('[!] Negative files read')"
   ]
  },
  {
   "cell_type": "code",
   "execution_count": 3,
   "metadata": {},
   "outputs": [],
   "source": [
    "def imgs_to_grayscale(img_list):\n",
    "    for i, img in enumerate(img_list):\n",
    "        if len(img.shape) == 3:\n",
    "            img_list[i] = cv2.cvtColor(img, cv2.COLOR_BGR2GRAY)\n",
    "\n",
    "imgs_to_grayscale(yes_images)\n",
    "imgs_to_grayscale(no_images)"
   ]
  },
  {
   "cell_type": "code",
   "execution_count": 4,
   "metadata": {},
   "outputs": [],
   "source": [
    "def threshold_imgs(img_list):\n",
    "    for i, img in enumerate(img_list):\n",
    "        tmp = cv2.threshold(img, 45, 255, cv2.THRESH_BINARY)[1]\n",
    "        tmp = cv2.erode(tmp, None, iterations=2)\n",
    "        tmp = cv2.dilate(tmp, None, iterations=2)\n",
    "        img_list[i] = tmp\n",
    "\n",
    "threshold_imgs(yes_images)\n",
    "threshold_imgs(no_images)"
   ]
  },
  {
   "cell_type": "code",
   "execution_count": 5,
   "metadata": {},
   "outputs": [
    {
     "ename": "error",
     "evalue": "OpenCV(4.7.0) D:\\a\\opencv-python\\opencv-python\\opencv\\modules\\imgproc\\src\\contours.cpp:197: error: (-210:Unsupported format or combination of formats) [Start]FindContours supports only CV_8UC1 images when mode != CV_RETR_FLOODFILL otherwise supports CV_32SC1 images only in function 'cvStartFindContours_Impl'\n",
     "output_type": "error",
     "traceback": [
      "\u001b[1;31m---------------------------------------------------------------------------\u001b[0m",
      "\u001b[1;31merror\u001b[0m                                     Traceback (most recent call last)",
      "\u001b[1;32mc:\\Users\\kmart\\Desktop\\Programacion\\Python\\BTD_Python\\image_loading.ipynb Cell 5\u001b[0m in \u001b[0;36m<cell line: 9>\u001b[1;34m()\u001b[0m\n\u001b[0;32m      <a href='vscode-notebook-cell:/c%3A/Users/kmart/Desktop/Programacion/Python/BTD_Python/image_loading.ipynb#W4sZmlsZQ%3D%3D?line=5'>6</a>\u001b[0m         ret\u001b[39m.\u001b[39mappend(\u001b[39mmax\u001b[39m(cont, key\u001b[39m=\u001b[39mcv2\u001b[39m.\u001b[39mcontourArea))\n\u001b[0;32m      <a href='vscode-notebook-cell:/c%3A/Users/kmart/Desktop/Programacion/Python/BTD_Python/image_loading.ipynb#W4sZmlsZQ%3D%3D?line=6'>7</a>\u001b[0m     \u001b[39mreturn\u001b[39;00m ret\n\u001b[1;32m----> <a href='vscode-notebook-cell:/c%3A/Users/kmart/Desktop/Programacion/Python/BTD_Python/image_loading.ipynb#W4sZmlsZQ%3D%3D?line=8'>9</a>\u001b[0m yes_img_cont \u001b[39m=\u001b[39m find_contours(yes_images)\n\u001b[0;32m     <a href='vscode-notebook-cell:/c%3A/Users/kmart/Desktop/Programacion/Python/BTD_Python/image_loading.ipynb#W4sZmlsZQ%3D%3D?line=9'>10</a>\u001b[0m \u001b[39mprint\u001b[39m(yes_img_cont)\n",
      "\u001b[1;32mc:\\Users\\kmart\\Desktop\\Programacion\\Python\\BTD_Python\\image_loading.ipynb Cell 5\u001b[0m in \u001b[0;36mfind_contours\u001b[1;34m(img_list)\u001b[0m\n\u001b[0;32m      <a href='vscode-notebook-cell:/c%3A/Users/kmart/Desktop/Programacion/Python/BTD_Python/image_loading.ipynb#W4sZmlsZQ%3D%3D?line=1'>2</a>\u001b[0m ret \u001b[39m=\u001b[39m []\n\u001b[0;32m      <a href='vscode-notebook-cell:/c%3A/Users/kmart/Desktop/Programacion/Python/BTD_Python/image_loading.ipynb#W4sZmlsZQ%3D%3D?line=2'>3</a>\u001b[0m \u001b[39mfor\u001b[39;00m i, img \u001b[39min\u001b[39;00m \u001b[39menumerate\u001b[39m(img_list):\n\u001b[1;32m----> <a href='vscode-notebook-cell:/c%3A/Users/kmart/Desktop/Programacion/Python/BTD_Python/image_loading.ipynb#W4sZmlsZQ%3D%3D?line=3'>4</a>\u001b[0m     cont \u001b[39m=\u001b[39m cv2\u001b[39m.\u001b[39;49mfindContours(img, cv2\u001b[39m.\u001b[39;49mRETR_EXTERNAL, cv2\u001b[39m.\u001b[39;49mCHAIN_APPROX_SIMPLE)\n\u001b[0;32m      <a href='vscode-notebook-cell:/c%3A/Users/kmart/Desktop/Programacion/Python/BTD_Python/image_loading.ipynb#W4sZmlsZQ%3D%3D?line=4'>5</a>\u001b[0m     cont \u001b[39m=\u001b[39m imutils\u001b[39m.\u001b[39mgrab_contours(cont)\n\u001b[0;32m      <a href='vscode-notebook-cell:/c%3A/Users/kmart/Desktop/Programacion/Python/BTD_Python/image_loading.ipynb#W4sZmlsZQ%3D%3D?line=5'>6</a>\u001b[0m     ret\u001b[39m.\u001b[39mappend(\u001b[39mmax\u001b[39m(cont, key\u001b[39m=\u001b[39mcv2\u001b[39m.\u001b[39mcontourArea))\n",
      "\u001b[1;31merror\u001b[0m: OpenCV(4.7.0) D:\\a\\opencv-python\\opencv-python\\opencv\\modules\\imgproc\\src\\contours.cpp:197: error: (-210:Unsupported format or combination of formats) [Start]FindContours supports only CV_8UC1 images when mode != CV_RETR_FLOODFILL otherwise supports CV_32SC1 images only in function 'cvStartFindContours_Impl'\n"
     ]
    }
   ],
   "source": [
    "def find_contours(img_list):\n",
    "    ret = []\n",
    "    for i, img in enumerate(img_list):\n",
    "        cont = cv2.findContours(img, cv2.RETR_EXTERNAL, cv2.CHAIN_APPROX_SIMPLE)\n",
    "        cont = imutils.grab_contours(cont)\n",
    "        ret.append(max(cont, key=cv2.contourArea))\n",
    "    return ret\n",
    "\n",
    "yes_img_cont = find_contours(yes_images)\n",
    "print(yes_img_cont)"
   ]
  }
 ],
 "metadata": {
  "kernelspec": {
   "display_name": "Python 3",
   "language": "python",
   "name": "python3"
  },
  "language_info": {
   "codemirror_mode": {
    "name": "ipython",
    "version": 3
   },
   "file_extension": ".py",
   "mimetype": "text/x-python",
   "name": "python",
   "nbconvert_exporter": "python",
   "pygments_lexer": "ipython3",
   "version": "3.10.4"
  },
  "orig_nbformat": 4,
  "vscode": {
   "interpreter": {
    "hash": "12749f567798517b8543354a13719bbd42e9e3e56a89ba27a040f4f72d5c2230"
   }
  }
 },
 "nbformat": 4,
 "nbformat_minor": 2
}
