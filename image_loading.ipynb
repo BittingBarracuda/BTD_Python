{
 "cells": [
  {
   "cell_type": "code",
   "execution_count": 1,
   "metadata": {},
   "outputs": [],
   "source": [
    "import numpy as np\n",
    "import matplotlib.pyplot as plt\n",
    "import os\n",
    "import cv2"
   ]
  },
  {
   "cell_type": "code",
   "execution_count": 2,
   "metadata": {},
   "outputs": [
    {
     "name": "stdout",
     "output_type": "stream",
     "text": [
      "[!] Reading files with positive diagnostic...\n",
      "[!] Positive files read!\n",
      "[!] Reading files with negative diagnostic...\n",
      "[!] Negative files read!\n"
     ]
    }
   ],
   "source": [
    "img_yes = '../data/yes/'\n",
    "img_no = '../data/no/'\n",
    "\n",
    "yes_files = os.listdir(img_yes)\n",
    "no_files = os.listdir(img_no)\n",
    "\n",
    "yes_images, no_images = [], []\n",
    "print('[!] Reading files with positive diagnostic...')\n",
    "for file in yes_files:\n",
    "    yes_images.append(plt.imread(f'{img_yes}{file}'))\n",
    "print('[!] Positive files read!')\n",
    "\n",
    "print('[!] Reading files with negative diagnostic...')\n",
    "for file in no_files:\n",
    "    no_images.append(plt.imread(f'{img_no}{file}'))\n",
    "print('[!] Negative files read!')\n",
    "\n",
    "all_images = yes_images + no_images\n",
    "YES_SIZE, NO_SIZE = len(yes_images), len(no_images)\n",
    "TOTAL_SIZE = len(all_images)"
   ]
  },
  {
   "cell_type": "code",
   "execution_count": 3,
   "metadata": {},
   "outputs": [],
   "source": [
    "THRESH = 30\n",
    "MAX_VALUE = 255\n",
    "\n",
    "def convert_to_int_matrix(img_list):\n",
    "    MIN, MAX = 0, 255\n",
    "    for i, img in enumerate(img_list):\n",
    "        if img.dtype == np.float32:\n",
    "            tmp = np.copy(img) * MAX\n",
    "            img_list[i] = tmp.astype(np.uint8)\n",
    "\n",
    "def resize_imgs(img_list, height, width):\n",
    "    for i, img in enumerate(img_list):\n",
    "        img_list[i] = cv2.resize(img, (height, width))\n",
    "\n",
    "def imgs_to_grayscale(img_list):\n",
    "    for i, img in enumerate(img_list):\n",
    "        if len(img.shape) == 3:\n",
    "            img_list[i] = cv2.cvtColor(img, cv2.COLOR_BGR2GRAY)\n",
    "\n",
    "def gaussian_blur(img_list):\n",
    "    for i, img in enumerate(img_list):\n",
    "        img_list[i] = cv2.GaussianBlur(img, (5, 5), 0) \n",
    "\n",
    "def threshold_imgs(img_list):\n",
    "    for i, img in enumerate(img_list):\n",
    "        _, img_list[i] = cv2.threshold(img, THRESH, MAX_VALUE, cv2.THRESH_BINARY)\n",
    "\n",
    "def erode_imgs(img_list, iter=1):\n",
    "    for i, img in enumerate(img_list):\n",
    "        img_list[i] = cv2.erode(img, None, iterations=iter)\n",
    "\n",
    "def dilate_imgs(img_list, iter=1):\n",
    "    for i, img in enumerate(img_list):\n",
    "        img_list[i] = cv2.dilate(img, None, iterations=iter)\n",
    "\n",
    "def flatten_contour(contour_list):\n",
    "    tmp = contour_list[0]\n",
    "    shape = tmp.shape\n",
    "    aux = np.zeros(shape=(shape[0], shape[2]), dtype=int)\n",
    "    for i in range(shape[0]):\n",
    "        aux[i] = tmp[i].flatten()\n",
    "    return aux\n",
    "\n",
    "def find_extreme_points(contour_list):\n",
    "    col_1 = contour_list[:, 0]\n",
    "    col_0 = contour_list[:, 1]\n",
    "    x_left, x_right = np.argmin(col_0), np.argmax(col_0)\n",
    "    y_top, y_bot = np.argmax(col_1), np.argmin(col_1)\n",
    "    ret = np.zeros(shape=(4, 2), dtype=int)\n",
    "    ret[0, :], ret[1, :] = contour_list[x_left], contour_list[x_right]\n",
    "    ret[2, :], ret[3, :] = contour_list[y_top], contour_list[y_bot]\n",
    "    return ret  \n",
    "\n",
    "def get_contour(img_list_morph, img_list, mode):\n",
    "    extreme_points, i = [], 0\n",
    "    for img_morph, img in zip(img_list_morph, img_list):\n",
    "        cont, _ = cv2.findContours(image=img_morph, mode=mode, method=cv2.CHAIN_APPROX_NONE)\n",
    "        cont_flat = flatten_contour(cont)\n",
    "        extreme_points.append(find_extreme_points(cont_flat))\n",
    "        i+= 1\n",
    "        if i % 50 == 0: print(f'[!] {i} images processed...')\n",
    "        # print(extreme_points[-1])\n",
    "        img_copy = img.copy()\n",
    "        # print(f'img_shape: {img_copy.shape}')\n",
    "        # print(f'extreme_point: {extreme_points[-1]}')\n",
    "        # for i in range(4):\n",
    "        #     img_copy = cv2.circle(img_copy, extreme_points[-1][i, :], radius=5, color=(0, 255, 0), thickness=-1)\n",
    "        # cv2.imshow(\"Image\", img_copy)\n",
    "        # cv2.waitKey()\n",
    "        # cv2.drawContours(image=img_copy, contours=cont, contourIdx=-1, color=(0, 0, 255), thickness=4, lineType=cv2.LINE_AA)\n",
    "        # cv2.imshow(\"Image\", img_copy)\n",
    "        # cv2.waitKey()\n",
    "    print(f'[!] Total of {i} images processed!')\n",
    "    return np.array(extreme_points)  \n",
    "\n",
    "def draw_img(img_list, index):\n",
    "    if index < len(img_list):\n",
    "        cv2.imshow(\"Brain image\", img_list[index])\n",
    "        cv2.waitKey()"
   ]
  },
  {
   "cell_type": "code",
   "execution_count": 4,
   "metadata": {},
   "outputs": [
    {
     "name": "stdout",
     "output_type": "stream",
     "text": [
      "[!] 50 images processed...\n",
      "[!] 100 images processed...\n",
      "[!] 150 images processed...\n",
      "[!] 200 images processed...\n",
      "[!] 250 images processed...\n",
      "[!] Total of 253 images processed!\n"
     ]
    }
   ],
   "source": [
    "INDEX = 0\n",
    "HEIGHT, WIDTH = 214, 214\n",
    "convert_to_int_matrix(all_images)\n",
    "all_images_morph = all_images.copy()\n",
    "draw_img(all_images_morph, INDEX)\n",
    "imgs_to_grayscale(all_images_morph)\n",
    "draw_img(all_images_morph, INDEX)  \n",
    "threshold_imgs(all_images_morph)\n",
    "draw_img(all_images_morph, INDEX)\n",
    "erode_imgs(all_images_morph, iter=2)\n",
    "draw_img(all_images_morph, INDEX)\n",
    "dilate_imgs(all_images_morph, iter=4)\n",
    "draw_img(all_images_morph, INDEX)\n",
    "gaussian_blur(all_images_morph)\n",
    "draw_img(all_images_morph, INDEX)\n",
    "cv2.destroyAllWindows()\n",
    "extreme_points = get_contour(all_images_morph, all_images, cv2.RETR_EXTERNAL)"
   ]
  },
  {
   "cell_type": "code",
   "execution_count": 5,
   "metadata": {},
   "outputs": [],
   "source": [
    "def cut_images(extreme_points, img_list):\n",
    "    new_images = []\n",
    "    for extreme_point, img in zip(extreme_points, img_list):\n",
    "        x_left, x_right = extreme_point[0, 1], extreme_point[1, 1]\n",
    "        y_top, y_bot = extreme_point[2, 0], extreme_point[3, 0]\n",
    "        size_h, size_v = x_right - x_left, y_top - y_bot\n",
    "        # print(f'img_shape: {img.shape}')\n",
    "        # print(f'x_left: {x_left} - x_right: {x_right} - y_top: {y_top} - y_bot: {y_bot}')\n",
    "        # tmp = np.zeros(shape=(size_h, size_v), dtype=np.uint8)\n",
    "        # tmp = img[x_left:x_right, y_bot:y_top].copy()\n",
    "        tmp = np.zeros(shape=(size_h, size_v), dtype=np.uint8)\n",
    "        for i, k in zip(range(x_left, x_right), range(size_h)):\n",
    "            for j, l in zip(range(y_bot, y_top), range(size_v)):\n",
    "                tmp[k, l] = img[i, j]\n",
    "        new_images.append(tmp)\n",
    "    return new_images"
   ]
  },
  {
   "cell_type": "code",
   "execution_count": 6,
   "metadata": {},
   "outputs": [],
   "source": [
    "grey_imgs = all_images.copy()\n",
    "imgs_to_grayscale(grey_imgs)\n",
    "new_images = cut_images(extreme_points, grey_imgs)"
   ]
  },
  {
   "cell_type": "code",
   "execution_count": 7,
   "metadata": {},
   "outputs": [],
   "source": [
    "def check_images(img_morph_list, img_list):\n",
    "    correct_yes_images, correct_no_images = [], []\n",
    "    incorrect_yes_images, incorrect_no_images = [], []\n",
    "    for img_morph, img, i in zip(img_morph_list, img_list, range(len(img_list))):\n",
    "        cv2.imshow(\"Brain\", img_morph)\n",
    "        key = cv2.waitKey()\n",
    "        if key == 13:\n",
    "            if i < YES_SIZE:\n",
    "                correct_yes_images.append(img_morph)\n",
    "            else:\n",
    "                correct_no_images.append(img_morph)\n",
    "        elif key == 8:\n",
    "            if i < YES_SIZE:\n",
    "                incorrect_yes_images.append(img)\n",
    "            else:\n",
    "                incorrect_no_images.append(img)\n",
    "        if i % 50 == 0:\n",
    "            print(f'[!] {i} images checked...')\n",
    "    return correct_yes_images, correct_no_images, incorrect_yes_images, incorrect_no_images"
   ]
  },
  {
   "cell_type": "code",
   "execution_count": 8,
   "metadata": {},
   "outputs": [
    {
     "name": "stdout",
     "output_type": "stream",
     "text": [
      "[!] 0 images checked...\n",
      "[!] 50 images checked...\n",
      "[!] 100 images checked...\n",
      "[!] 150 images checked...\n",
      "[!] 200 images checked...\n",
      "[!] 250 images checked...\n"
     ]
    }
   ],
   "source": [
    "correct_yes_images, correct_no_images, incorrect_yes_images, incorrect_no_images = check_images(new_images, grey_imgs)\n",
    "cv2.destroyAllWindows()\n",
    "resize_imgs(correct_yes_images, HEIGHT, WIDTH)\n",
    "resize_imgs(correct_no_images, HEIGHT, WIDTH)\n",
    "# correct_yes_images = np.load('./numpy_arrays/correct_yes_images.npy', allow_pickle=True)\n",
    "# correct_no_images = np.load('./numpy_arrays/correct_no_images.npy', allow_pickle=True)\n",
    "# incorrect_yes_images = np.load('./numpy_arrays/incorrect_yes_images.npy', allow_pickle=True)\n",
    "# incorrect_no_images = np.load('./numpy_arrays/incorrect_no_images.npy', allow_pickle=True)"
   ]
  },
  {
   "cell_type": "code",
   "execution_count": 9,
   "metadata": {},
   "outputs": [
    {
     "name": "stdout",
     "output_type": "stream",
     "text": [
      "[!] 205 correct images!\n",
      "[!] 48 incorrect images!\n"
     ]
    }
   ],
   "source": [
    "print(f'[!] {len(correct_yes_images) + len(correct_no_images)} correct images!')\n",
    "print(f'[!] {len(incorrect_yes_images) + len(incorrect_no_images)} incorrect images!')"
   ]
  },
  {
   "cell_type": "code",
   "execution_count": 10,
   "metadata": {},
   "outputs": [
    {
     "name": "stderr",
     "output_type": "stream",
     "text": [
      "c:\\Users\\kmart\\AppData\\Local\\Programs\\Python\\Python310\\lib\\site-packages\\numpy\\lib\\npyio.py:518: VisibleDeprecationWarning: Creating an ndarray from ragged nested sequences (which is a list-or-tuple of lists-or-tuples-or ndarrays with different lengths or shapes) is deprecated. If you meant to do this, you must specify 'dtype=object' when creating the ndarray.\n",
      "  arr = np.asanyarray(arr)\n"
     ]
    }
   ],
   "source": [
    "NP_PATH = './numpy_arrays'\n",
    "np.save(f'{NP_PATH}/correct_yes_images.npy', correct_yes_images, allow_pickle=True)\n",
    "np.save(f'{NP_PATH}/correct_no_images.npy', correct_no_images, allow_pickle=True)\n",
    "np.save(f'{NP_PATH}/incorrect_yes_images.npy', incorrect_yes_images, allow_pickle=True)\n",
    "np.save(f'{NP_PATH}/incorrect_no_images.npy', incorrect_no_images, allow_pickle=True)"
   ]
  },
  {
   "cell_type": "code",
   "execution_count": 11,
   "metadata": {},
   "outputs": [
    {
     "name": "stderr",
     "output_type": "stream",
     "text": [
      "<__array_function__ internals>:180: VisibleDeprecationWarning: Creating an ndarray from ragged nested sequences (which is a list-or-tuple of lists-or-tuples-or ndarrays with different lengths or shapes) is deprecated. If you meant to do this, you must specify 'dtype=object' when creating the ndarray.\n"
     ]
    },
    {
     "name": "stdout",
     "output_type": "stream",
     "text": [
      "[!] Total of 48 images processed!\n",
      "[!] 0 images checked...\n",
      "[!] 17 correct images!\n",
      "[!] 31 incorrect images!\n"
     ]
    }
   ],
   "source": [
    "THRESH, INDEX = 20, 0\n",
    "YES_SIZE, NO_SIZE = len(incorrect_yes_images), len(incorrect_no_images)\n",
    "\n",
    "original_incorrect_images = np.concatenate((incorrect_yes_images, incorrect_no_images))\n",
    "all_incorrect_images = original_incorrect_images.copy()\n",
    "\n",
    "threshold_imgs(all_incorrect_images)\n",
    "erode_imgs(all_incorrect_images, iter=2)\n",
    "dilate_imgs(all_incorrect_images, iter=4)\n",
    "gaussian_blur(all_incorrect_images)\n",
    "cv2.destroyAllWindows()\n",
    "\n",
    "extreme_points = get_contour(all_incorrect_images, original_incorrect_images, cv2.RETR_EXTERNAL)\n",
    "new_images = cut_images(extreme_points, original_incorrect_images)\n",
    "res_imgs = check_images(new_images, original_incorrect_images)\n",
    "cv2.destroyAllWindows()\n",
    "\n",
    "print(f'[!] {len(res_imgs[0]) + len(res_imgs[1])} correct images!')\n",
    "print(f'[!] {len(res_imgs[2]) + len(res_imgs[3])} incorrect images!')"
   ]
  },
  {
   "cell_type": "code",
   "execution_count": 12,
   "metadata": {},
   "outputs": [
    {
     "name": "stdout",
     "output_type": "stream",
     "text": [
      "[!] 222 total correct images!\n",
      "[!] 31 total incorrect images!\n"
     ]
    }
   ],
   "source": [
    "resize_imgs(res_imgs[0], HEIGHT, WIDTH)\n",
    "resize_imgs(res_imgs[1], HEIGHT, WIDTH)\n",
    "res_correct_yes = np.concatenate((np.load(f'{NP_PATH}/correct_yes_images.npy'), np.array(res_imgs[0], dtype=np.uint8)))\n",
    "res_correct_no = np.concatenate((np.load(f'{NP_PATH}/correct_no_images.npy'), np.array(res_imgs[1], dtype=np.uint8)))\n",
    "print(f'[!] {len(res_correct_yes) + len(res_correct_no)} total correct images!')\n",
    "print(f'[!] {TOTAL_SIZE - (len(res_correct_yes)+len(res_correct_no))} total incorrect images!')\n",
    "np.save(f'{NP_PATH}/correct_yes_images_2.npy', res_correct_yes, allow_pickle=True)\n",
    "np.save(f'{NP_PATH}/correct_no_images_2.npy', res_correct_no, allow_pickle=True)\n",
    "np.save(f'{NP_PATH}/incorrect_yes_images_2.npy', res_imgs[2], allow_pickle=True)\n",
    "np.save(f'{NP_PATH}/incorrect_no_images_2.npy', res_imgs[3], allow_pickle=True)"
   ]
  },
  {
   "cell_type": "code",
   "execution_count": 13,
   "metadata": {},
   "outputs": [],
   "source": [
    "class_yes = np.ones(shape=(len(res_correct_yes,)), dtype=np.uint8)\n",
    "class_no = np.zeros(shape=(len(res_correct_no)), dtype=np.uint8)\n",
    "np.save(f'{NP_PATH}/classes.npy', np.concatenate((class_yes, class_no)), allow_pickle=True)"
   ]
  },
  {
   "cell_type": "code",
   "execution_count": 14,
   "metadata": {},
   "outputs": [
    {
     "name": "stdout",
     "output_type": "stream",
     "text": [
      "135\n",
      "87\n"
     ]
    }
   ],
   "source": [
    "print(len(res_correct_yes))\n",
    "print(len(res_correct_no))\n",
    "for img in res_correct_yes:\n",
    "    cv2.imshow(\"yes\", img)\n",
    "    cv2.waitKey()\n",
    "cv2.destroyAllWindows()\n",
    "for img in res_correct_no:\n",
    "    cv2.imshow(\"no\", img)\n",
    "    cv2.waitKey()\n",
    "cv2.destroyAllWindows()\n",
    "# NP_PATH = './numpy_arrays/'\n",
    "# THRESH, INDEX = 30, 0\n",
    "# remaining_incorrect_yes = np.load(f'{NP_PATH}/incorrect_yes_images_2.npy', allow_pickle=True)\n",
    "# remaining_incorrect_no = np.load(f'{NP_PATH}/incorrect_no_images_2.npy', allow_pickle=True)\n",
    "\n",
    "# all_remaining_images = np.concatenate((remaining_incorrect_yes, remaining_incorrect_no))\n",
    "# all_reamaining_images_morph = all_remaining_images.copy()\n",
    "# threshold_imgs(all_reamaining_images_morph)\n",
    "# draw_img(all_reamaining_images_morph, INDEX)\n",
    "# erode_imgs(all_reamaining_images_morph, iter=7)\n",
    "# draw_img(all_reamaining_images_morph, INDEX)\n",
    "# dilate_imgs(all_reamaining_images_morph, iter=7)\n",
    "# draw_img(all_reamaining_images_morph, INDEX)\n",
    "# gaussian_blur(all_reamaining_images_morph)\n",
    "# draw_img(all_reamaining_images_morph, INDEX)\n",
    "# cv2.destroyAllWindows()\n",
    "\n",
    "# extreme_points = get_contour(all_reamaining_images_morph, all_remaining_images, cv2.RETR_EXTERNAL)\n",
    "# new_images = cut_images(extreme_points, all_remaining_images)\n",
    "# res_imgs = check_images(new_images, all_remaining_images)\n",
    "# cv2.destroyAllWindows()\n",
    "\n",
    "# print(f'[!] {len(res_imgs[0]) + len(res_imgs[1])} correct images!')\n",
    "# print(f'[!] {len(res_imgs[2]) + len(res_imgs[3])} incorrect images!')"
   ]
  }
 ],
 "metadata": {
  "kernelspec": {
   "display_name": "Python 3",
   "language": "python",
   "name": "python3"
  },
  "language_info": {
   "codemirror_mode": {
    "name": "ipython",
    "version": 3
   },
   "file_extension": ".py",
   "mimetype": "text/x-python",
   "name": "python",
   "nbconvert_exporter": "python",
   "pygments_lexer": "ipython3",
   "version": "3.10.4 (tags/v3.10.4:9d38120, Mar 23 2022, 23:13:41) [MSC v.1929 64 bit (AMD64)]"
  },
  "orig_nbformat": 4,
  "vscode": {
   "interpreter": {
    "hash": "12749f567798517b8543354a13719bbd42e9e3e56a89ba27a040f4f72d5c2230"
   }
  }
 },
 "nbformat": 4,
 "nbformat_minor": 2
}
