{
 "cells": [
  {
   "cell_type": "code",
   "execution_count": 1,
   "metadata": {},
   "outputs": [],
   "source": [
    "import numpy as np\n",
    "import matplotlib.pyplot as plt\n",
    "import os\n",
    "import cv2\n",
    "import imutils"
   ]
  },
  {
   "cell_type": "code",
   "execution_count": 2,
   "metadata": {},
   "outputs": [
    {
     "name": "stdout",
     "output_type": "stream",
     "text": [
      "[!] Reading files with positive diagnostic...\n",
      "[!] Positive files read!\n",
      "[!] Reading files with negative diagnostic...\n",
      "[!] Negative files read\n"
     ]
    }
   ],
   "source": [
    "img_yes = '../data/yes/'\n",
    "img_no = '../data/no/'\n",
    "\n",
    "yes_files = os.listdir(img_yes)\n",
    "no_files = os.listdir(img_no)\n",
    "\n",
    "yes_images, no_images = [], []\n",
    "print('[!] Reading files with positive diagnostic...')\n",
    "for file in yes_files:\n",
    "    yes_images.append(plt.imread(f'{img_yes}{file}'))\n",
    "print('[!] Positive files read!')\n",
    "\n",
    "print('[!] Reading files with negative diagnostic...')\n",
    "for file in no_files:\n",
    "    no_images.append(plt.imread(f'{img_no}{file}'))\n",
    "print('[!] Negative files read')\n",
    "\n",
    "all_images = yes_images + no_images"
   ]
  },
  {
   "cell_type": "code",
   "execution_count": 3,
   "metadata": {},
   "outputs": [],
   "source": [
    "def imgs_to_grayscale(img_list):\n",
    "    for i, img in enumerate(img_list):\n",
    "        if len(img.shape) == 3:\n",
    "            img_list[i] = cv2.cvtColor(img, cv2.COLOR_BGR2GRAY)\n",
    "\n",
    "all_images_grey = all_images.copy()\n",
    "imgs_to_grayscale(all_images_grey)"
   ]
  },
  {
   "cell_type": "code",
   "execution_count": 4,
   "metadata": {},
   "outputs": [],
   "source": [
    "THRESH = 30\n",
    "MAX_VALUE = 255\n",
    "def threshold_imgs(img_list):\n",
    "    for i, img in enumerate(img_list):\n",
    "        _, img_list[i] = cv2.threshold(img, THRESH, MAX_VALUE, cv2.THRESH_BINARY)\n",
    "    \n",
    "threshold_imgs(all_images_grey)"
   ]
  },
  {
   "cell_type": "code",
   "execution_count": 5,
   "metadata": {},
   "outputs": [
    {
     "ename": "error",
     "evalue": "OpenCV(4.7.0) D:\\a\\opencv-python\\opencv-python\\opencv\\modules\\imgproc\\src\\contours.cpp:197: error: (-210:Unsupported format or combination of formats) [Start]FindContours supports only CV_8UC1 images when mode != CV_RETR_FLOODFILL otherwise supports CV_32SC1 images only in function 'cvStartFindContours_Impl'\n",
     "output_type": "error",
     "traceback": [
      "\u001b[1;31m---------------------------------------------------------------------------\u001b[0m",
      "\u001b[1;31merror\u001b[0m                                     Traceback (most recent call last)",
      "\u001b[1;32mc:\\Users\\kmart\\Desktop\\Programacion\\Python\\BTD_Python\\image_loading.ipynb Cell 5\u001b[0m in \u001b[0;36m<cell line: 9>\u001b[1;34m()\u001b[0m\n\u001b[0;32m      <a href='vscode-notebook-cell:/c%3A/Users/kmart/Desktop/Programacion/Python/BTD_Python/image_loading.ipynb#W5sZmlsZQ%3D%3D?line=5'>6</a>\u001b[0m         cv2\u001b[39m.\u001b[39mimshow(\u001b[39m\"\u001b[39m\u001b[39mImage\u001b[39m\u001b[39m\"\u001b[39m, img_copy)\n\u001b[0;32m      <a href='vscode-notebook-cell:/c%3A/Users/kmart/Desktop/Programacion/Python/BTD_Python/image_loading.ipynb#W5sZmlsZQ%3D%3D?line=6'>7</a>\u001b[0m         cv2\u001b[39m.\u001b[39mwaitKey()\n\u001b[1;32m----> <a href='vscode-notebook-cell:/c%3A/Users/kmart/Desktop/Programacion/Python/BTD_Python/image_loading.ipynb#W5sZmlsZQ%3D%3D?line=8'>9</a>\u001b[0m get_contour(all_images)\n",
      "\u001b[1;32mc:\\Users\\kmart\\Desktop\\Programacion\\Python\\BTD_Python\\image_loading.ipynb Cell 5\u001b[0m in \u001b[0;36mget_contour\u001b[1;34m(img_list)\u001b[0m\n\u001b[0;32m      <a href='vscode-notebook-cell:/c%3A/Users/kmart/Desktop/Programacion/Python/BTD_Python/image_loading.ipynb#W5sZmlsZQ%3D%3D?line=0'>1</a>\u001b[0m \u001b[39mdef\u001b[39;00m \u001b[39mget_contour\u001b[39m(img_list):\n\u001b[0;32m      <a href='vscode-notebook-cell:/c%3A/Users/kmart/Desktop/Programacion/Python/BTD_Python/image_loading.ipynb#W5sZmlsZQ%3D%3D?line=1'>2</a>\u001b[0m     \u001b[39mfor\u001b[39;00m img \u001b[39min\u001b[39;00m img_list:\n\u001b[1;32m----> <a href='vscode-notebook-cell:/c%3A/Users/kmart/Desktop/Programacion/Python/BTD_Python/image_loading.ipynb#W5sZmlsZQ%3D%3D?line=2'>3</a>\u001b[0m         cont, _ \u001b[39m=\u001b[39m cv2\u001b[39m.\u001b[39;49mfindContours(image\u001b[39m=\u001b[39;49mimg, mode\u001b[39m=\u001b[39;49mcv2\u001b[39m.\u001b[39;49mRETR_TREE, method\u001b[39m=\u001b[39;49mcv2\u001b[39m.\u001b[39;49mCHAIN_APPROX_NONE)\n\u001b[0;32m      <a href='vscode-notebook-cell:/c%3A/Users/kmart/Desktop/Programacion/Python/BTD_Python/image_loading.ipynb#W5sZmlsZQ%3D%3D?line=3'>4</a>\u001b[0m         img_copy \u001b[39m=\u001b[39m img\u001b[39m.\u001b[39mcopy()\n\u001b[0;32m      <a href='vscode-notebook-cell:/c%3A/Users/kmart/Desktop/Programacion/Python/BTD_Python/image_loading.ipynb#W5sZmlsZQ%3D%3D?line=4'>5</a>\u001b[0m         cv2\u001b[39m.\u001b[39mdrawContours(image\u001b[39m=\u001b[39mimg_copy, contours\u001b[39m=\u001b[39mcont, contourIdx\u001b[39m=\u001b[39m\u001b[39m-\u001b[39m\u001b[39m1\u001b[39m, color\u001b[39m=\u001b[39m(\u001b[39m0\u001b[39m, \u001b[39m255\u001b[39m, \u001b[39m0\u001b[39m), thickness\u001b[39m=\u001b[39m\u001b[39m4\u001b[39m, lineType\u001b[39m=\u001b[39mcv2\u001b[39m.\u001b[39mLINE_AA)\n",
      "\u001b[1;31merror\u001b[0m: OpenCV(4.7.0) D:\\a\\opencv-python\\opencv-python\\opencv\\modules\\imgproc\\src\\contours.cpp:197: error: (-210:Unsupported format or combination of formats) [Start]FindContours supports only CV_8UC1 images when mode != CV_RETR_FLOODFILL otherwise supports CV_32SC1 images only in function 'cvStartFindContours_Impl'\n"
     ]
    }
   ],
   "source": [
    "def get_contour(img_list):\n",
    "    for img in img_list:\n",
    "        cont, _ = cv2.findContours(image=img, mode=cv2.RETR_TREE, method=cv2.CHAIN_APPROX_NONE)\n",
    "        img_copy = img.copy()\n",
    "        cv2.drawContours(image=img_copy, contours=cont, contourIdx=-1, color=(0, 255, 0), thickness=4, lineType=cv2.LINE_AA)\n",
    "        cv2.imshow(\"Image\", img_copy)\n",
    "        cv2.waitKey()\n",
    "\n",
    "get_contour(all_images)"
   ]
  }
 ],
 "metadata": {
  "kernelspec": {
   "display_name": "Python 3",
   "language": "python",
   "name": "python3"
  },
  "language_info": {
   "codemirror_mode": {
    "name": "ipython",
    "version": 3
   },
   "file_extension": ".py",
   "mimetype": "text/x-python",
   "name": "python",
   "nbconvert_exporter": "python",
   "pygments_lexer": "ipython3",
   "version": "3.10.4"
  },
  "orig_nbformat": 4,
  "vscode": {
   "interpreter": {
    "hash": "12749f567798517b8543354a13719bbd42e9e3e56a89ba27a040f4f72d5c2230"
   }
  }
 },
 "nbformat": 4,
 "nbformat_minor": 2
}
