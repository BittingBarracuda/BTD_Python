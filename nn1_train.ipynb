{
 "cells": [
  {
   "cell_type": "code",
   "execution_count": 1,
   "metadata": {},
   "outputs": [],
   "source": [
    "import pandas as pd \n",
    "import numpy as np\n",
    "import albumentations as A\n",
    "import cv2\n",
    "from sklearn.decomposition import PCA \n",
    "from sklearn.preprocessing import StandardScaler\n",
    "from sklearn.neural_network import MLPClassifier\n",
    "from sklearn.pipeline import Pipeline\n",
    "from sklearn.metrics import balanced_accuracy_score\n",
    "from sklearn.model_selection import GridSearchCV, RepeatedStratifiedKFold\n",
    "import matplotlib.pyplot as plt\n",
    "from tensorflow.keras.preprocessing.image import ImageDataGenerator\n",
    "from time import time\n",
    "from random import seed"
   ]
  },
  {
   "cell_type": "code",
   "execution_count": 2,
   "metadata": {},
   "outputs": [],
   "source": [
    "DATA_PATH = './data'\n",
    "def load_dataset():\n",
    "    X_yes = np.load(f'{DATA_PATH}/def_yes_images.npy')\n",
    "    X_no = np.load(f'{DATA_PATH}/def_no_images.npy')\n",
    "    classes = np.load(f'{DATA_PATH}/classes.npy')\n",
    "\n",
    "    print(f'X_yes shape: {X_yes.shape}')\n",
    "    print(f'X_no shape {X_no.shape}')\n",
    "    print(f'classes shape: {classes.shape}')\n",
    "\n",
    "    return X_yes, X_no, classes\n",
    "\n",
    "def reshape_dataset(X_yes, X_no):\n",
    "    X = np.row_stack((X_yes, X_no))\n",
    "    N, SIZE_H, SIZE_V = X.shape\n",
    "    X = np.reshape(X, newshape=(N, SIZE_H * SIZE_V))\n",
    "    print(f'X shape: {X.shape}')\n",
    "    return X"
   ]
  },
  {
   "cell_type": "code",
   "execution_count": 3,
   "metadata": {},
   "outputs": [
    {
     "name": "stdout",
     "output_type": "stream",
     "text": [
      "X_yes shape: (120, 214, 214)\n",
      "X_no shape (83, 214, 214)\n",
      "classes shape: (203,)\n",
      "X shape: (203, 45796)\n"
     ]
    }
   ],
   "source": [
    "X_yes, X_no, classes = load_dataset()\n",
    "X = reshape_dataset(X_yes, X_no)"
   ]
  },
  {
   "cell_type": "code",
   "execution_count": 4,
   "metadata": {},
   "outputs": [],
   "source": [
    "def get_data_augmentator(X):\n",
    "    data_gen = ImageDataGenerator(\n",
    "        rotation_range=30, # Rotation up to 30 degrees\n",
    "        fill_mode='nearest', # Fill mode for new pixels after roatation\n",
    "        height_shift_range=0.1, # Shift vertically up to 10% of img dimensions\n",
    "        width_shift_range=0.1, # Shift horizontally up to 10% of img dimensions\n",
    "        horizontal_flip=True, # Random flip over horizontal axis\n",
    "        vertical_flip=True, # Random flip over vertical axis\n",
    "        brightness_range=[0.8, 1.2], # Brightness change from 0.8 (darker) up to 1.2 (brighter)\n",
    "    )\n",
    "    return data_gen"
   ]
  },
  {
   "attachments": {},
   "cell_type": "markdown",
   "metadata": {},
   "source": [
    "## Perceptrón multi-capa con reducción de dimensionalidad PCA"
   ]
  },
  {
   "cell_type": "code",
   "execution_count": 5,
   "metadata": {},
   "outputs": [],
   "source": [
    "def draw_pca_variance(n_components, variance_cumsum):\n",
    "    fig, ax = plt.subplots(nrows=1, ncols=1, figsize=(10, 10))\n",
    "    ax.set_xlabel('Componente principal')\n",
    "    ax.set_ylabel('Porcentaje de varianza acumulada')\n",
    "    ax.plot(\n",
    "        np.arange(1, n_components + 1),\n",
    "        variance_cumsum,\n",
    "    )\n",
    "    i, aux = 0, 0\n",
    "    for x, y in zip(np.arange(1, n_components + 1, 25), variance_cumsum[:-1:25]):\n",
    "        ax.plot(x, y, 'ko')\n",
    "        ax.annotate(\n",
    "            np.round(y, 3),\n",
    "            (x, y),\n",
    "            textcoords='offset points',\n",
    "            xytext=(-7, 12),\n",
    "            ha='center'\n",
    "        )\n",
    "    plt.show()\n",
    "\n",
    "def get_pca(X):\n",
    "    pca = PCA(n_components=None)\n",
    "    X_tmp = pca.fit_transform(X)\n",
    "    n_components = pca.n_components_\n",
    "    variance_cumsum = pca.explained_variance_ratio_.cumsum()\n",
    "    print(f'X_tmp shape: {X_tmp.shape}')\n",
    "    print(f'N_components: {n_components}')\n",
    "    print(f'Porcentaje de varianza acumulada: {variance_cumsum}')\n",
    "    draw_pca_variance(n_components, variance_cumsum)\n",
    "    return pca"
   ]
  },
  {
   "cell_type": "code",
   "execution_count": 6,
   "metadata": {},
   "outputs": [],
   "source": [
    "tmp_pca = get_pca(X)\n",
    "\n",
    "sd = seed(time())\n",
    "\n",
    "pipe = Pipeline([\n",
    "    ('Scaler', StandardScaler()),\n",
    "    ('PCA', PCA(n_components=None)),\n",
    "    ('MLPClassifier', MLPClassifier(random_state=sd))\n",
    "])\n",
    "\n",
    "RSKFold = RepeatedStratifiedKFold(n_splits=5, n_repeats=3, random_state=sd)\n",
    "hidden_layers = [(100, 50, 25), (200, 100, 50), (150, 75, 30, 10), (200, 100, 50, 25)]\n",
    "\n",
    "grid_space = [\n",
    "    {\n",
    "        'MLPClassifier__solver': ['lbfgs', 'adam'],\n",
    "        'MLPClassifier__max_iter': range(1000, 3500, 500),\n",
    "        'MLPClassifier__activation': ['logistic', 'tanh', 'relu'],\n",
    "        'MLPClassifier__hidden_layer_sizes': hidden_layers,\n",
    "        'MLPClassifier__learning_rate_init': [1e-4, 1e-3, 1e-2, 1e-1]\n",
    "    }, \n",
    "    {\n",
    "        'MLPClassifier__solver': ['sgd'],\n",
    "        'MLPClassifier__max_iter': range(1000, 3500, 500),\n",
    "        'MLPClassifier__activation': ['logistic', 'tanh', 'relu'],\n",
    "        'MLPClassifier__hidden_layer_sizes': hidden_layers,\n",
    "        'MLPClassifier__learning_rate_init': [1e-4, 1e-3, 1e-2, 1e-1],\n",
    "        'MLPClassifier__momentum': np.arange(0.1, 1, 0.1)\n",
    "    }\n",
    "]\n",
    "\n",
    "grid = GridSearchCV(\n",
    "    estimator=pipe,\n",
    "    param_grid=grid_space,\n",
    "    cv=RSKFold,\n",
    "    scoring='balanced_accuracy',\n",
    "    return_train_score=True,\n",
    "    verbose=4,\n",
    "    n_jobs=-1\n",
    ")\n"
   ]
  },
  {
   "cell_type": "code",
   "execution_count": null,
   "metadata": {},
   "outputs": [],
   "source": [
    "res = grid.fit(X, classes)"
   ]
  },
  {
   "attachments": {},
   "cell_type": "markdown",
   "metadata": {},
   "source": [
    "## Perceptrón multi-capa con reducción de dimensionalidad PCA y *data augmentation*"
   ]
  },
  {
   "cell_type": "code",
   "execution_count": 6,
   "metadata": {},
   "outputs": [],
   "source": [
    "def augmentate_data(imgs, aug_per_image, imgs_trans):\n",
    "    new_images = []\n",
    "    for img, i in zip(imgs, range(1, len(imgs) + 1)):\n",
    "        for _ in range(aug_per_image):\n",
    "            tmp_img = imgs_trans(image=img)[\"image\"]\n",
    "            new_images.append(tmp_img)\n",
    "        if i % 50 == 0: print(f'[!] {i} images agumented...')\n",
    "    print(f'[!] Total of {len(imgs)} images augmented!\\n')\n",
    "    return new_images"
   ]
  },
  {
   "cell_type": "code",
   "execution_count": 7,
   "metadata": {},
   "outputs": [
    {
     "name": "stdout",
     "output_type": "stream",
     "text": [
      "X_yes shape: (120, 214, 214)\n",
      "X_no shape (83, 214, 214)\n",
      "classes shape: (203,)\n"
     ]
    }
   ],
   "source": [
    "X_yes, X_no, classes = load_dataset()\n",
    "#X = reshape_dataset(X_yes, X_no)"
   ]
  },
  {
   "cell_type": "code",
   "execution_count": 11,
   "metadata": {},
   "outputs": [
    {
     "name": "stdout",
     "output_type": "stream",
     "text": [
      "[!] 50 images agumented...\n",
      "[!] 100 images agumented...\n",
      "[!] Total of 120 images augmented!\n",
      "\n",
      "[!] 50 images agumented...\n",
      "[!] Total of 83 images augmented!\n",
      "\n",
      "X shape: (4060, 45796)\n"
     ]
    }
   ],
   "source": [
    "imgs_trans = A.Compose([\n",
    "    A.HorizontalFlip(p=0.25),\n",
    "    A.VerticalFlip(p=0.25),\n",
    "    A.RandomBrightnessContrast(brightness_limit=(-0.2, 0.2), p=0.25),\n",
    "    A.Rotate(limit=[-30, 30], p=0.25, border_mode=cv2.BORDER_CONSTANT),\n",
    "    A.Affine(translate_percent=0.1)\n",
    "])\n",
    "\n",
    "X_yes_aug = augmentate_data(X_yes, 20, imgs_trans)\n",
    "X_no_aug = augmentate_data(X_no, 20, imgs_trans)\n",
    "X = reshape_dataset(X_yes_aug, X_no_aug)"
   ]
  },
  {
   "cell_type": "code",
   "execution_count": 12,
   "metadata": {},
   "outputs": [],
   "source": [
    "def draw_images(imgs):\n",
    "    for img in imgs:\n",
    "        cv2.imshow(\"Img\", img)\n",
    "        cv2.waitKey()\n",
    "    cv2.destroyAllWindows()"
   ]
  },
  {
   "cell_type": "code",
   "execution_count": 13,
   "metadata": {},
   "outputs": [
    {
     "ename": "KeyboardInterrupt",
     "evalue": "",
     "output_type": "error",
     "traceback": [
      "\u001b[1;31m---------------------------------------------------------------------------\u001b[0m",
      "\u001b[1;31mKeyboardInterrupt\u001b[0m                         Traceback (most recent call last)",
      "\u001b[1;32mc:\\Users\\kmart\\Desktop\\Programacion\\Python\\BTD_Python\\nn1_train.ipynb Cell 14\u001b[0m in \u001b[0;36m<cell line: 1>\u001b[1;34m()\u001b[0m\n\u001b[1;32m----> <a href='vscode-notebook-cell:/c%3A/Users/kmart/Desktop/Programacion/Python/BTD_Python/nn1_train.ipynb#X16sZmlsZQ%3D%3D?line=0'>1</a>\u001b[0m draw_images(X_yes_aug)\n\u001b[0;32m      <a href='vscode-notebook-cell:/c%3A/Users/kmart/Desktop/Programacion/Python/BTD_Python/nn1_train.ipynb#X16sZmlsZQ%3D%3D?line=1'>2</a>\u001b[0m draw_images(X_no_aug)\n",
      "\u001b[1;32mc:\\Users\\kmart\\Desktop\\Programacion\\Python\\BTD_Python\\nn1_train.ipynb Cell 14\u001b[0m in \u001b[0;36mdraw_images\u001b[1;34m(imgs)\u001b[0m\n\u001b[0;32m      <a href='vscode-notebook-cell:/c%3A/Users/kmart/Desktop/Programacion/Python/BTD_Python/nn1_train.ipynb#X16sZmlsZQ%3D%3D?line=1'>2</a>\u001b[0m \u001b[39mfor\u001b[39;00m img \u001b[39min\u001b[39;00m imgs:\n\u001b[0;32m      <a href='vscode-notebook-cell:/c%3A/Users/kmart/Desktop/Programacion/Python/BTD_Python/nn1_train.ipynb#X16sZmlsZQ%3D%3D?line=2'>3</a>\u001b[0m     cv2\u001b[39m.\u001b[39mimshow(\u001b[39m\"\u001b[39m\u001b[39mImg\u001b[39m\u001b[39m\"\u001b[39m, img)\n\u001b[1;32m----> <a href='vscode-notebook-cell:/c%3A/Users/kmart/Desktop/Programacion/Python/BTD_Python/nn1_train.ipynb#X16sZmlsZQ%3D%3D?line=3'>4</a>\u001b[0m     cv2\u001b[39m.\u001b[39;49mwaitKey()\n\u001b[0;32m      <a href='vscode-notebook-cell:/c%3A/Users/kmart/Desktop/Programacion/Python/BTD_Python/nn1_train.ipynb#X16sZmlsZQ%3D%3D?line=4'>5</a>\u001b[0m cv2\u001b[39m.\u001b[39mdestroyAllWindows()\n",
      "\u001b[1;31mKeyboardInterrupt\u001b[0m: "
     ]
    }
   ],
   "source": [
    "draw_images(X_yes_aug)\n",
    "draw_images(X_no_aug)"
   ]
  },
  {
   "cell_type": "code",
   "execution_count": 64,
   "metadata": {},
   "outputs": [
    {
     "ename": "NameError",
     "evalue": "name 'get_pca' is not defined",
     "output_type": "error",
     "traceback": [
      "\u001b[1;31m---------------------------------------------------------------------------\u001b[0m",
      "\u001b[1;31mNameError\u001b[0m                                 Traceback (most recent call last)",
      "\u001b[1;32mc:\\Users\\kmart\\Desktop\\Programacion\\Python\\BTD_Python\\nn1_train.ipynb Cell 15\u001b[0m in \u001b[0;36m<cell line: 1>\u001b[1;34m()\u001b[0m\n\u001b[1;32m----> <a href='vscode-notebook-cell:/c%3A/Users/kmart/Desktop/Programacion/Python/BTD_Python/nn1_train.ipynb#X23sZmlsZQ%3D%3D?line=0'>1</a>\u001b[0m get_pca(X)\n",
      "\u001b[1;31mNameError\u001b[0m: name 'get_pca' is not defined"
     ]
    }
   ],
   "source": [
    "get_pca(X)"
   ]
  }
 ],
 "metadata": {
  "kernelspec": {
   "display_name": "Python 3",
   "language": "python",
   "name": "python3"
  },
  "language_info": {
   "codemirror_mode": {
    "name": "ipython",
    "version": 3
   },
   "file_extension": ".py",
   "mimetype": "text/x-python",
   "name": "python",
   "nbconvert_exporter": "python",
   "pygments_lexer": "ipython3",
   "version": "3.10.4"
  },
  "orig_nbformat": 4,
  "vscode": {
   "interpreter": {
    "hash": "12749f567798517b8543354a13719bbd42e9e3e56a89ba27a040f4f72d5c2230"
   }
  }
 },
 "nbformat": 4,
 "nbformat_minor": 2
}
