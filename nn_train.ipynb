{
 "cells": [
  {
   "cell_type": "code",
   "execution_count": 1,
   "metadata": {},
   "outputs": [],
   "source": [
    "import pandas as pd \n",
    "import numpy as np\n",
    "from sklearn.decomposition import PCA \n",
    "from sklearn.preprocessing import StandardScaler"
   ]
  },
  {
   "cell_type": "code",
   "execution_count": 2,
   "metadata": {},
   "outputs": [
    {
     "name": "stdout",
     "output_type": "stream",
     "text": [
      "X_yes shape: (120, 214, 214)\n",
      "X_np shape (120, 214, 214)\n",
      "classes shape: (203,)\n"
     ]
    }
   ],
   "source": [
    "DATA_PATH = './data'\n",
    "X_yes = np.load(f'{DATA_PATH}/def_yes_images.npy')\n",
    "X_no = np.load(f'{DATA_PATH}/def_yes_images.npy')\n",
    "classes = np.load(f'{DATA_PATH}/classes.npy')\n",
    "\n",
    "print(f'X_yes shape: {X_yes.shape}')\n",
    "print(f'X_np shape {X_no.shape}')\n",
    "print(f'classes shape: {classes.shape}')"
   ]
  },
  {
   "cell_type": "code",
   "execution_count": 4,
   "metadata": {},
   "outputs": [
    {
     "name": "stdout",
     "output_type": "stream",
     "text": [
      "X shape: (240, 45796)\n"
     ]
    }
   ],
   "source": [
    "X = np.row_stack((X_yes, X_no))\n",
    "N, SIZE_H, SIZE_V = X.shape\n",
    "X = np.reshape(X, newshape=(N, SIZE_H * SIZE_V))\n",
    "print(f'X shape: {X.shape}')"
   ]
  },
  {
   "cell_type": "code",
   "execution_count": null,
   "metadata": {},
   "outputs": [],
   "source": []
  }
 ],
 "metadata": {
  "kernelspec": {
   "display_name": "Python 3",
   "language": "python",
   "name": "python3"
  },
  "language_info": {
   "codemirror_mode": {
    "name": "ipython",
    "version": 3
   },
   "file_extension": ".py",
   "mimetype": "text/x-python",
   "name": "python",
   "nbconvert_exporter": "python",
   "pygments_lexer": "ipython3",
   "version": "3.10.4"
  },
  "orig_nbformat": 4,
  "vscode": {
   "interpreter": {
    "hash": "12749f567798517b8543354a13719bbd42e9e3e56a89ba27a040f4f72d5c2230"
   }
  }
 },
 "nbformat": 4,
 "nbformat_minor": 2
}
