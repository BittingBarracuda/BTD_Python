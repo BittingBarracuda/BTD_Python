{
 "cells": [
  {
   "cell_type": "code",
   "execution_count": 5,
   "metadata": {},
   "outputs": [],
   "source": [
    "import pandas as pd \n",
    "import numpy as np\n",
    "from sklearn.decomposition import PCA \n",
    "from sklearn.preprocessing import StandardScaler\n",
    "from sklearn.neural_network import MLPClassifier\n",
    "from sklearn.pipeline import Pipeline\n",
    "from sklearn.model_selection import GridSearchCV, RepeatedStratifiedKFold\n",
    "import matplotlib.pyplot as plt\n",
    "from tensorflow.keras.preprocessing.image import ImageDataGenerator\n",
    "from time import time\n",
    "from random import seed"
   ]
  },
  {
   "cell_type": "code",
   "execution_count": 2,
   "metadata": {},
   "outputs": [
    {
     "name": "stdout",
     "output_type": "stream",
     "text": [
      "X_yes shape: (120, 214, 214)\n",
      "X_no shape (83, 214, 214)\n",
      "classes shape: (203,)\n"
     ]
    }
   ],
   "source": [
    "DATA_PATH = './data'\n",
    "X_yes = np.load(f'{DATA_PATH}/def_yes_images.npy')\n",
    "X_no = np.load(f'{DATA_PATH}/def_no_images.npy')\n",
    "classes = np.load(f'{DATA_PATH}/classes.npy')\n",
    "\n",
    "print(f'X_yes shape: {X_yes.shape}')\n",
    "print(f'X_no shape {X_no.shape}')\n",
    "print(f'classes shape: {classes.shape}')"
   ]
  },
  {
   "cell_type": "code",
   "execution_count": 3,
   "metadata": {},
   "outputs": [
    {
     "name": "stdout",
     "output_type": "stream",
     "text": [
      "X shape: (203, 45796)\n"
     ]
    }
   ],
   "source": [
    "X = np.row_stack((X_yes, X_no))\n",
    "N, SIZE_H, SIZE_V = X.shape\n",
    "X = np.reshape(X, newshape=(N, SIZE_H * SIZE_V))\n",
    "print(f'X shape: {X.shape}')"
   ]
  },
  {
   "cell_type": "code",
   "execution_count": null,
   "metadata": {},
   "outputs": [],
   "source": [
    "def get_data_augmentator(X):\n",
    "    data_gen = ImageDataGenerator(\n",
    "        rotation_range=30, # Rotation up to 30 degrees\n",
    "        fill_mode='nearest', # Fill mode for new pixels after roatation\n",
    "        height_shift_range=0.1, # Shift vertically up to 10% of img dimensions\n",
    "        width_shift_range=0.1, # Shift horizontally up to 10% of img dimensions\n",
    "        horizontal_flip=True, # Random flip over horizontal axis\n",
    "        vertical_flip=True, # Random flip over vertical axis\n",
    "        brightness_range=[0.8, 1.2], # Brightness change from 0.8 (darker) up to 1.2 (brighter)\n",
    "    )\n",
    "    return data_gen"
   ]
  },
  {
   "attachments": {},
   "cell_type": "markdown",
   "metadata": {},
   "source": [
    "## Perceptrón multi-capa con reducción de dimensionalidad PCA"
   ]
  },
  {
   "cell_type": "code",
   "execution_count": null,
   "metadata": {},
   "outputs": [],
   "source": [
    "def draw_pca_variance(n_components, variance_cumsum):\n",
    "    fig, ax = plt.subplots(nrows=1, ncols=1, figsize=(10, 10))\n",
    "    ax.set_xlabel('Componente principal')\n",
    "    ax.set_ylabel('Porcentaje de varianza acumulada')\n",
    "    ax.plot(\n",
    "        np.arange(1, n_components + 1),\n",
    "        variance_cumsum,\n",
    "    )\n",
    "    i, aux = 0, 0\n",
    "    for x, y in zip(np.arange(1, n_components + 1, 25), variance_cumsum[:-1:25]):\n",
    "        ax.plot(x, y, 'ko')\n",
    "        ax.annotate(\n",
    "            np.round(y, 3),\n",
    "            (x, y),\n",
    "            textcoords='offset points',\n",
    "            xytext=(-7, 12),\n",
    "            ha='center'\n",
    "        )\n",
    "    plt.show()\n",
    "\n",
    "def get_pca(X):\n",
    "    pca = PCA(n_components=None)\n",
    "    X_tmp = pca.fit_transform(X)\n",
    "    n_components = pca.n_components_\n",
    "    variance_cumsum = pca.explained_variance_ratio_.cumsum()\n",
    "    print(f'X_tmp shape: {X_tmp.shape}')\n",
    "    print(f'N_components: {n_components}')\n",
    "    print(f'Porcentaje de varianza acumulada: {variance_cumsum}')\n",
    "    draw_pca_variance(n_components, variance_cumsum)\n",
    "    return pca"
   ]
  },
  {
   "cell_type": "code",
   "execution_count": null,
   "metadata": {},
   "outputs": [],
   "source": [
    "sd = seed(time())\n",
    "pca = get_pca(X)\n",
    "\n",
    "pipe = Pipeline([\n",
    "    ('Scaler', StandardScaler()),\n",
    "    ('PCA', pca),\n",
    "    ('MLPClassifier', MLPClassifier(random_state=sd))\n",
    "])\n",
    "\n",
    "RSKFold = RepeatedStratifiedKFold(n_splits=5, n_rpeats=10, random_state=sd)\n",
    "\n",
    "grid_space = [\n",
    "    {\n",
    "        'MLPClassifier__solver': ['lbfgs', 'adam', 'sgd'],\n",
    "        'MLPClassifier__max_iter': range(100, 1100, 100),\n",
    "        'MLPClassifier__activation': ['logistic', 'tanh', 'relu'],\n",
    "        'MLPClassifier__hidden_layer_sizes': []\n",
    "        'MLPClassifier__learning_rate_init': [1e-5, 1e-4, 1e-3, 1e-2, 1e-1],\n",
    "        'MLPClassifier__momentum': np.arange(0.1, 1, 0.1)\n",
    "    }\n",
    "]"
   ]
  }
 ],
 "metadata": {
  "kernelspec": {
   "display_name": "Python 3",
   "language": "python",
   "name": "python3"
  },
  "language_info": {
   "codemirror_mode": {
    "name": "ipython",
    "version": 3
   },
   "file_extension": ".py",
   "mimetype": "text/x-python",
   "name": "python",
   "nbconvert_exporter": "python",
   "pygments_lexer": "ipython3",
   "version": "3.10.4 (tags/v3.10.4:9d38120, Mar 23 2022, 23:13:41) [MSC v.1929 64 bit (AMD64)]"
  },
  "orig_nbformat": 4,
  "vscode": {
   "interpreter": {
    "hash": "12749f567798517b8543354a13719bbd42e9e3e56a89ba27a040f4f72d5c2230"
   }
  }
 },
 "nbformat": 4,
 "nbformat_minor": 2
}
