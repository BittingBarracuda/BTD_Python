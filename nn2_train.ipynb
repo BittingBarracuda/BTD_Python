{
 "cells": [
  {
   "cell_type": "code",
   "execution_count": 4,
   "metadata": {},
   "outputs": [],
   "source": [
    "import cv2\n",
    "import joblib\n",
    "import pandas as pd \n",
    "import numpy as np\n",
    "import albumentations as A\n",
    "from time import time\n",
    "from random import seed\n",
    "from tensorflow import keras \n",
    "from tensorflow.keras.layers import Flatten, Dense, Conv2D, MaxPooling2D, AveragePooling2D\n",
    "from sklearn.decomposition import PCA \n",
    "from sklearn.preprocessing import StandardScaler\n",
    "from sklearn.neural_network import MLPClassifier\n",
    "from sklearn.pipeline import Pipeline\n",
    "from sklearn.model_selection import GridSearchCV, RepeatedStratifiedKFold\n",
    "import matplotlib.pyplot as plt"
   ]
  },
  {
   "cell_type": "code",
   "execution_count": 5,
   "metadata": {},
   "outputs": [],
   "source": [
    "DATA_PATH = './data'\n",
    "def load_dataset():\n",
    "    X_yes = np.load(f'{DATA_PATH}/def_yes_images.npy')\n",
    "    X_no = np.load(f'{DATA_PATH}/def_no_images.npy')\n",
    "    classes = np.load(f'{DATA_PATH}/classes.npy')\n",
    "\n",
    "    print(f'X_yes shape: {X_yes.shape}')\n",
    "    print(f'X_no shape {X_no.shape}')\n",
    "    print(f'classes shape: {classes.shape}')\n",
    "\n",
    "    return X_yes, X_no, classes\n",
    "\n",
    "def reshape_dataset(X_yes, X_no):\n",
    "    X = np.row_stack((X_yes, X_no))\n",
    "    N, SIZE_H, SIZE_V = X.shape\n",
    "    X = np.reshape(X, newshape=(N, SIZE_H * SIZE_V))\n",
    "    print(f'X shape: {X.shape}')\n",
    "    return X\n",
    "\n",
    "def data_augmentation(imgs, aug_per_image, imgs_trans):\n",
    "    new_images = []\n",
    "    for img, i in zip(imgs, range(1, len(imgs) + 1)):\n",
    "        for _ in range(aug_per_image):\n",
    "            tmp_img = imgs_trans(image=img)[\"image\"]\n",
    "            new_images.append(tmp_img)\n",
    "        if i % 50 == 0: print(f'[!] {i} images agumented...')\n",
    "    print(f'[!] Total of {len(imgs)} images augmented!\\n')\n",
    "    return new_images"
   ]
  },
  {
   "cell_type": "code",
   "execution_count": 8,
   "metadata": {},
   "outputs": [
    {
     "name": "stdout",
     "output_type": "stream",
     "text": [
      "X_yes shape: (135, 214, 214)\n",
      "X_no shape (87, 214, 214)\n",
      "classes shape: (222,)\n",
      "X shape (222, 214, 214)\n"
     ]
    }
   ],
   "source": [
    "X_yes, X_no, classes = load_dataset()\n",
    "X = np.row_stack((X_yes, X_no))\n",
    "N, SIZE_H, SIZE_V = X.shape\n",
    "N_CLASSES = len(np.unique(classes))\n",
    "print(f'X shape {X.shape}')"
   ]
  },
  {
   "cell_type": "code",
   "execution_count": 20,
   "metadata": {},
   "outputs": [
    {
     "name": "stdout",
     "output_type": "stream",
     "text": [
      "Model: \"sequential_11\"\n",
      "_________________________________________________________________\n",
      " Layer (type)                Output Shape              Param #   \n",
      "=================================================================\n",
      " conv2d_24 (Conv2D)          (None, 107, 107, 32)      832       \n",
      "                                                                 \n",
      " max_pooling2d_24 (MaxPoolin  (None, 107, 107, 32)     0         \n",
      " g2D)                                                            \n",
      "                                                                 \n",
      " conv2d_25 (Conv2D)          (None, 107, 107, 64)      51264     \n",
      "                                                                 \n",
      " max_pooling2d_25 (MaxPoolin  (None, 54, 54, 64)       0         \n",
      " g2D)                                                            \n",
      "                                                                 \n",
      " flatten_12 (Flatten)        (None, 186624)            0         \n",
      "                                                                 \n",
      " dense_36 (Dense)            (None, 120)               22395000  \n",
      "                                                                 \n",
      " dense_37 (Dense)            (None, 84)                10164     \n",
      "                                                                 \n",
      " dense_38 (Dense)            (None, 2)                 170       \n",
      "                                                                 \n",
      "=================================================================\n",
      "Total params: 22,457,430\n",
      "Trainable params: 22,457,430\n",
      "Non-trainable params: 0\n",
      "_________________________________________________________________\n",
      "None\n"
     ]
    }
   ],
   "source": [
    "le_net_5 = keras.Sequential([\n",
    "    # LAYER 1\n",
    "    Conv2D(filters=32, kernel_size=(5, 5), strides=2, padding=\"same\", input_shape=(SIZE_H, SIZE_V, 1), activation='relu'),\n",
    "    MaxPooling2D(pool_size=(2, 2), strides=1, padding=\"same\"),\n",
    "    # LAYER 2\n",
    "    Conv2D(filters=64, kernel_size=(5, 5), strides=1, padding=\"same\", activation='relu'),\n",
    "    MaxPooling2D(pool_size=(2, 2), strides=2, padding=\"same\"),\n",
    "    # FLATTEN\n",
    "    Flatten(),\n",
    "    # DENSE LAYERS\n",
    "    Dense(units=120, activation='relu'),\n",
    "    Dense(units=84, activation='relu'),\n",
    "    # OUTPUT\n",
    "    Dense(units=N_CLASSES, activation='softmax')\n",
    "])\n",
    "\n",
    "print(le_net_5.summary())"
   ]
  },
  {
   "cell_type": "code",
   "execution_count": 23,
   "metadata": {},
   "outputs": [
    {
     "name": "stdout",
     "output_type": "stream",
     "text": [
      "Model: \"sequential_13\"\n",
      "_________________________________________________________________\n",
      " Layer (type)                Output Shape              Param #   \n",
      "=================================================================\n",
      " conv2d_40 (Conv2D)          (None, 214, 214, 64)      640       \n",
      "                                                                 \n",
      " conv2d_41 (Conv2D)          (None, 214, 214, 64)      36928     \n",
      "                                                                 \n",
      " max_pooling2d_31 (MaxPoolin  (None, 107, 107, 64)     0         \n",
      " g2D)                                                            \n",
      "                                                                 \n",
      " conv2d_42 (Conv2D)          (None, 107, 107, 128)     73856     \n",
      "                                                                 \n",
      " conv2d_43 (Conv2D)          (None, 107, 107, 128)     147584    \n",
      "                                                                 \n",
      " max_pooling2d_32 (MaxPoolin  (None, 53, 53, 128)      0         \n",
      " g2D)                                                            \n",
      "                                                                 \n",
      " conv2d_44 (Conv2D)          (None, 53, 53, 256)       295168    \n",
      "                                                                 \n",
      " conv2d_45 (Conv2D)          (None, 53, 53, 256)       590080    \n",
      "                                                                 \n",
      " conv2d_46 (Conv2D)          (None, 53, 53, 256)       590080    \n",
      "                                                                 \n",
      " max_pooling2d_33 (MaxPoolin  (None, 26, 26, 256)      0         \n",
      " g2D)                                                            \n",
      "                                                                 \n",
      " conv2d_47 (Conv2D)          (None, 26, 26, 512)       1180160   \n",
      "                                                                 \n",
      " conv2d_48 (Conv2D)          (None, 26, 26, 512)       2359808   \n",
      "                                                                 \n",
      " conv2d_49 (Conv2D)          (None, 26, 26, 512)       2359808   \n",
      "                                                                 \n",
      " max_pooling2d_34 (MaxPoolin  (None, 13, 13, 512)      0         \n",
      " g2D)                                                            \n",
      "                                                                 \n",
      " conv2d_50 (Conv2D)          (None, 13, 13, 512)       2359808   \n",
      "                                                                 \n",
      " conv2d_51 (Conv2D)          (None, 13, 13, 512)       2359808   \n",
      "                                                                 \n",
      " conv2d_52 (Conv2D)          (None, 13, 13, 512)       2359808   \n",
      "                                                                 \n",
      " max_pooling2d_35 (MaxPoolin  (None, 6, 6, 512)        0         \n",
      " g2D)                                                            \n",
      "                                                                 \n",
      " flatten_13 (Flatten)        (None, 18432)             0         \n",
      "                                                                 \n",
      " dense_42 (Dense)            (None, 4096)              75501568  \n",
      "                                                                 \n",
      " dense_43 (Dense)            (None, 1000)              4097000   \n",
      "                                                                 \n",
      " dense_44 (Dense)            (None, 2)                 2002      \n",
      "                                                                 \n",
      "=================================================================\n",
      "Total params: 94,314,106\n",
      "Trainable params: 94,314,106\n",
      "Non-trainable params: 0\n",
      "_________________________________________________________________\n",
      "None\n"
     ]
    }
   ],
   "source": [
    "vgg_16 = keras.Sequential([\n",
    "    # LAYER 1\n",
    "    Conv2D(filters=64, kernel_size=(3, 3), strides=1, padding='same', input_shape=(SIZE_H, SIZE_V, 1), activation='relu'),\n",
    "    Conv2D(filters=64, kernel_size=(3, 3), strides=1, padding='same', activation='relu'),\n",
    "    # LAYER 2\n",
    "    MaxPooling2D(pool_size=(2, 2), strides=2),\n",
    "    Conv2D(filters=128, kernel_size=(3, 3), strides=1, padding='same', activation='relu'),\n",
    "    Conv2D(filters=128, kernel_size=(3, 3), strides=1, padding='same', activation='relu'),\n",
    "    # LAYER 3\n",
    "    MaxPooling2D(pool_size=(2, 2), strides=2),\n",
    "    Conv2D(filters=256, kernel_size=(3, 3), strides=1, padding='same', activation='relu'),\n",
    "    Conv2D(filters=256, kernel_size=(3, 3), strides=1, padding='same', activation='relu'),\n",
    "    Conv2D(filters=256, kernel_size=(3, 3), strides=1, padding='same', activation='relu'),\n",
    "    # LAYER 4\n",
    "    MaxPooling2D(pool_size=(2, 2), strides=2),\n",
    "    Conv2D(filters=512, kernel_size=(3, 3), strides=1, padding='same', activation='relu'),\n",
    "    Conv2D(filters=512, kernel_size=(3, 3), strides=1, padding='same', activation='relu'),\n",
    "    Conv2D(filters=512, kernel_size=(3, 3), strides=1, padding='same', activation='relu'),\n",
    "    # LAYER 5\n",
    "    MaxPooling2D(pool_size=(2, 2), strides=2),\n",
    "    Conv2D(filters=512, kernel_size=(3, 3), strides=1, padding='same', activation='relu'),\n",
    "    Conv2D(filters=512, kernel_size=(3, 3), strides=1, padding='same', activation='relu'),\n",
    "    Conv2D(filters=512, kernel_size=(3, 3), strides=1, padding='same', activation='relu'),\n",
    "    # MAXPOOL BEFORE FC\n",
    "    MaxPooling2D(pool_size=(2, 2), strides=2),\n",
    "    # FULLY CONNECTED LAYERS\n",
    "    Flatten(),\n",
    "    Dense(units=4096, activation='relu'),\n",
    "    Dense(units=1000, activation='relu'),\n",
    "    # OUTPUT LAYER\n",
    "    Dense(units=N_CLASSES, activation='softmax')\n",
    "])\n",
    "print(vgg_16.summary())"
   ]
  },
  {
   "cell_type": "code",
   "execution_count": null,
   "metadata": {},
   "outputs": [],
   "source": [
    "lu_net = keras.Sequential([\n",
    "])"
   ]
  }
 ],
 "metadata": {
  "kernelspec": {
   "display_name": "Python 3",
   "language": "python",
   "name": "python3"
  },
  "language_info": {
   "codemirror_mode": {
    "name": "ipython",
    "version": 3
   },
   "file_extension": ".py",
   "mimetype": "text/x-python",
   "name": "python",
   "nbconvert_exporter": "python",
   "pygments_lexer": "ipython3",
   "version": "3.10.4"
  },
  "orig_nbformat": 4,
  "vscode": {
   "interpreter": {
    "hash": "12749f567798517b8543354a13719bbd42e9e3e56a89ba27a040f4f72d5c2230"
   }
  }
 },
 "nbformat": 4,
 "nbformat_minor": 2
}
