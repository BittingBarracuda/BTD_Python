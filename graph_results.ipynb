{
 "cells": [
  {
   "cell_type": "code",
   "execution_count": 13,
   "metadata": {},
   "outputs": [],
   "source": [
    "import os\n",
    "import numpy as np\n",
    "import pandas as pd\n",
    "import matplotlib.pyplot as plt\n",
    "plt.rcParams.update({'font.size': 22})"
   ]
  },
  {
   "cell_type": "code",
   "execution_count": 14,
   "metadata": {},
   "outputs": [],
   "source": [
    "GRAPH_DIR = './images/res_graphs/'\n",
    "\n",
    "def graph_stuff(df, column1, column2, file_name):\n",
    "    epochs = df.shape[0]\n",
    "    fig, ax = plt.subplots(nrows=1, ncols=1, figsize=(10, 10))\n",
    "    ax.plot(range(1, epochs+1), df[column1], 'b-', label='Entrenamiento')\n",
    "    ax.plot(range(1, epochs+1), df[column2], 'r-', label='Validación')\n",
    "    ax.legend()\n",
    "    if column1 != 'Pérdida':\n",
    "        if df[column1].max() >= 0.98:\n",
    "            if 'EXP_4' in file_name:\n",
    "                ax.set_ybound(upper=1.01)\n",
    "            else:\n",
    "                ax.set_ybound(upper=1.05)\n",
    "        else:\n",
    "            ax.set_ybound(upper=1.0)\n",
    "    if df[column1].min() > 0.9:\n",
    "        ax.set_ybound(lower=0.9)\n",
    "    ax.set_xlabel('Iteraciones')\n",
    "    ax.set_title(column1)\n",
    "    plt.savefig(f'{file_name}', bbox_inches='tight')\n",
    "    plt.close(fig)\n",
    "\n",
    "def get_architecture(file_name):\n",
    "    if 'le_net' in file_name:\n",
    "        return 'Le_Net_5'\n",
    "    if 'lu_net' in file_name:\n",
    "        return 'Lu_Net'\n",
    "    if 'vgg_16' in file_name:\n",
    "        return 'VGG_16'\n",
    "\n",
    "def process_results(file_name):\n",
    "    column_names = ['Índice', 'Pérdida', 'Precisión',\n",
    "                    'Exactitud Binaria', 'Exhaustividad', 'Exactitud Balanceada',\n",
    "                    'Pérdida Validación', 'Precisión Validación', 'Exactitud Binaria Validación',\n",
    "                    'Exhaustividad Validación', 'Exactitud Balanceada Validación']\n",
    "    df = pd.read_csv(file_name, header=0, names=column_names)\n",
    "    df.drop(columns='Índice', inplace=True)\n",
    "    column_names = column_names[1:]\n",
    "\n",
    "    aux_cols = []\n",
    "    for i in range(5):\n",
    "        aux_cols.append((column_names[i], column_names[i+5]))\n",
    "\n",
    "    for column_pair in aux_cols:\n",
    "        file_name_graph = f'{GRAPH_DIR}{column_pair[0]}_{get_architecture(file_name)}_EXP_{file_name[-5:-4]}'\n",
    "        graph_stuff(df, column_pair[0], column_pair[1], file_name_graph)\n",
    "    "
   ]
  },
  {
   "cell_type": "code",
   "execution_count": 15,
   "metadata": {},
   "outputs": [
    {
     "name": "stdout",
     "output_type": "stream",
     "text": [
      "Procesando fichero le_net_5_metrics_1.csv...\n",
      "Procesando fichero le_net_5_metrics_2.csv...\n",
      "Procesando fichero le_net_5_metrics_3.csv...\n",
      "Procesando fichero le_net_5_metrics_4.csv...\n",
      "Procesando fichero lu_net_metrics_1.csv...\n",
      "Procesando fichero lu_net_metrics_2.csv...\n",
      "Procesando fichero lu_net_metrics_3.csv...\n",
      "Procesando fichero lu_net_metrics_4.csv...\n",
      "Procesando fichero vgg_16_metrics_1.csv...\n",
      "Procesando fichero vgg_16_metrics_2.csv...\n",
      "Procesando fichero vgg_16_metrics_3.csv...\n",
      "Procesando fichero vgg_16_metrics_4.csv...\n"
     ]
    }
   ],
   "source": [
    "RES_DIR = './results'\n",
    "res_files = os.listdir(RES_DIR)\n",
    "for file in res_files:\n",
    "    if not 'scores' in file:\n",
    "        print(f'Procesando fichero {file}...')\n",
    "        process_results(f'{RES_DIR}/{file}')"
   ]
  },
  {
   "cell_type": "code",
   "execution_count": 23,
   "metadata": {},
   "outputs": [
    {
     "name": "stdout",
     "output_type": "stream",
     "text": [
      "\\begin{tabular}{lrrrrr}\n",
      "\\toprule\n",
      "Arquitectura &  Pérdida &  Precisión &  Exactitud Binaria &  Exhaustividad &  Exactitud Balanceada \\\\\n",
      "\\midrule\n",
      "    Le-Net 5 &   1.1337 &     0.7692 &             0.7121 &          0.750 &                0.4864 \\\\\n",
      "      VGG-16 &   8.2761 &     0.7778 &             0.6970 &          0.700 &                0.6380 \\\\\n",
      "      Lu-Net &   0.6740 &     0.6875 &             0.6667 &          0.825 &                0.5811 \\\\\n",
      "\\bottomrule\n",
      "\\end{tabular}\n",
      "\n",
      "\\begin{tabular}{lrrrrr}\n",
      "\\toprule\n",
      "Arquitectura &  Pérdida &  Precisión &  Exactitud Binaria &  Exhaustividad &  Exactitud Balanceada \\\\\n",
      "\\midrule\n",
      "    Le-Net 5 &   0.4204 &     0.9208 &             0.8951 &         0.8708 &                0.8969 \\\\\n",
      "      VGG-16 &   0.3975 &     0.9751 &             0.9644 &         0.9551 &                0.9647 \\\\\n",
      "      Lu-Net &   0.4736 &     0.8585 &             0.8373 &         0.8184 &                0.8346 \\\\\n",
      "\\bottomrule\n",
      "\\end{tabular}\n",
      "\n",
      "\\begin{tabular}{lrrrrr}\n",
      "\\toprule\n",
      "Arquitectura &  Pérdida &  Precisión &  Exactitud Binaria &  Exhaustividad &  Exactitud Balanceada \\\\\n",
      "\\midrule\n",
      "    Le-Net 5 &   0.4982 &     0.9673 &             0.9259 &         0.8858 &                0.9277 \\\\\n",
      "      VGG-16 &   0.1161 &     0.9793 &             0.9759 &         0.9738 &                0.9776 \\\\\n",
      "      Lu-Net &   0.5539 &     0.8636 &             0.8248 &         0.7828 &                0.8240 \\\\\n",
      "\\bottomrule\n",
      "\\end{tabular}\n",
      "\n",
      "\\begin{tabular}{lrrrrr}\n",
      "\\toprule\n",
      "Arquitectura &  Pérdida &  Precisión &  Exactitud Binaria &  Exhaustividad &  Exactitud Balanceada \\\\\n",
      "\\midrule\n",
      "    Le-Net 5 &   0.2035 &     0.9854 &             0.9755 &         0.9656 &                0.9758 \\\\\n",
      "      VGG-16 &   0.0629 &     0.9923 &             0.9880 &         0.9837 &                0.9879 \\\\\n",
      "      Lu-Net &   0.3091 &     0.9324 &             0.9095 &         0.8842 &                0.9090 \\\\\n",
      "\\bottomrule\n",
      "\\end{tabular}\n",
      "\n"
     ]
    },
    {
     "name": "stderr",
     "output_type": "stream",
     "text": [
      "C:\\Users\\kmart\\AppData\\Local\\Temp\\ipykernel_19120\\770101055.py:7: FutureWarning: In future versions `DataFrame.to_latex` is expected to utilise the base implementation of `Styler.to_latex` for formatting and rendering. The arguments signature may therefore change. It is recommended instead to use `DataFrame.style.to_latex` which also contains additional functionality.\n",
      "  print(df.to_latex(index=False))\n",
      "C:\\Users\\kmart\\AppData\\Local\\Temp\\ipykernel_19120\\770101055.py:7: FutureWarning: In future versions `DataFrame.to_latex` is expected to utilise the base implementation of `Styler.to_latex` for formatting and rendering. The arguments signature may therefore change. It is recommended instead to use `DataFrame.style.to_latex` which also contains additional functionality.\n",
      "  print(df.to_latex(index=False))\n",
      "C:\\Users\\kmart\\AppData\\Local\\Temp\\ipykernel_19120\\770101055.py:7: FutureWarning: In future versions `DataFrame.to_latex` is expected to utilise the base implementation of `Styler.to_latex` for formatting and rendering. The arguments signature may therefore change. It is recommended instead to use `DataFrame.style.to_latex` which also contains additional functionality.\n",
      "  print(df.to_latex(index=False))\n",
      "C:\\Users\\kmart\\AppData\\Local\\Temp\\ipykernel_19120\\770101055.py:7: FutureWarning: In future versions `DataFrame.to_latex` is expected to utilise the base implementation of `Styler.to_latex` for formatting and rendering. The arguments signature may therefore change. It is recommended instead to use `DataFrame.style.to_latex` which also contains additional functionality.\n",
      "  print(df.to_latex(index=False))\n"
     ]
    }
   ],
   "source": [
    "test_files = list(filter(lambda x: 'test' in x, res_files))\n",
    "scores = ['Arquitectura', 'Pérdida', 'Precisión', 'Exactitud Binaria', 'Exhaustividad', 'Exactitud Balanceada']\n",
    "for test_file in test_files:\n",
    "    df = pd.read_csv(f'./results/{test_file}', header=0, names=scores)\n",
    "    df = df.astype({'Pérdida':'float64', 'Precisión':'float64', 'Exactitud Binaria':'float64', 'Exhaustividad':'float64', 'Exactitud Balanceada':'float64'})\n",
    "    df = df.round(decimals=4)\n",
    "    print(df.to_latex(index=False))"
   ]
  }
 ],
 "metadata": {
  "kernelspec": {
   "display_name": "Python 3",
   "language": "python",
   "name": "python3"
  },
  "language_info": {
   "codemirror_mode": {
    "name": "ipython",
    "version": 3
   },
   "file_extension": ".py",
   "mimetype": "text/x-python",
   "name": "python",
   "nbconvert_exporter": "python",
   "pygments_lexer": "ipython3",
   "version": "3.10.4"
  },
  "orig_nbformat": 4
 },
 "nbformat": 4,
 "nbformat_minor": 2
}
